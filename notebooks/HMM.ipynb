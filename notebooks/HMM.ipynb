{
 "cells": [
  {
   "cell_type": "code",
   "execution_count": 33,
   "metadata": {},
   "outputs": [],
   "source": [
    "import pandas as pd\n",
    "import seaborn as sns \n",
    "import matplotlib as plt\n",
    "import numpy as np\n",
    "import math"
   ]
  },
  {
   "cell_type": "code",
   "execution_count": 2,
   "metadata": {},
   "outputs": [],
   "source": [
    "window_data = pd.read_csv(\"data/first_31dbs_counters_string_time_data.csv\")\n",
    "immersive_data = pd.read_csv(\"data/first_31dbs_isImmersive_data.csv\")"
   ]
  },
  {
   "cell_type": "code",
   "execution_count": 3,
   "metadata": {},
   "outputs": [
    {
     "data": {
      "text/html": [
       "<div>\n",
       "<style scoped>\n",
       "    .dataframe tbody tr th:only-of-type {\n",
       "        vertical-align: middle;\n",
       "    }\n",
       "\n",
       "    .dataframe tbody tr th {\n",
       "        vertical-align: top;\n",
       "    }\n",
       "\n",
       "    .dataframe thead th {\n",
       "        text-align: right;\n",
       "    }\n",
       "</style>\n",
       "<table border=\"1\" class=\"dataframe\">\n",
       "  <thead>\n",
       "    <tr style=\"text-align: right;\">\n",
       "      <th></th>\n",
       "      <th>time</th>\n",
       "      <th>window</th>\n",
       "      <th>is_immersive</th>\n",
       "    </tr>\n",
       "  </thead>\n",
       "  <tbody>\n",
       "    <tr>\n",
       "      <th>0</th>\n",
       "      <td>2021-11-12 18:17:47.026</td>\n",
       "      <td>cmd.exe</td>\n",
       "      <td>0.0</td>\n",
       "    </tr>\n",
       "    <tr>\n",
       "      <th>1</th>\n",
       "      <td>2021-11-12 18:17:54.031</td>\n",
       "      <td>SearchApp.exe</td>\n",
       "      <td>1.0</td>\n",
       "    </tr>\n",
       "    <tr>\n",
       "      <th>2</th>\n",
       "      <td>2021-11-12 18:18:16.046</td>\n",
       "      <td>cmd.exe</td>\n",
       "      <td>0.0</td>\n",
       "    </tr>\n",
       "  </tbody>\n",
       "</table>\n",
       "</div>"
      ],
      "text/plain": [
       "                      time         window  is_immersive\n",
       "0  2021-11-12 18:17:47.026        cmd.exe           0.0\n",
       "1  2021-11-12 18:17:54.031  SearchApp.exe           1.0\n",
       "2  2021-11-12 18:18:16.046        cmd.exe           0.0"
      ]
     },
     "execution_count": 3,
     "metadata": {},
     "output_type": "execute_result"
    }
   ],
   "source": [
    "#joined tables on the time according to rows in the window data\n",
    "data = window_data.merge(immersive_data, on = \"time\", how = 'left')\n",
    "\n",
    "#data clean\n",
    "data = data[data.is_immersive != -9.223372036854776e+18] #happens only 5 times in the data\n",
    "data.head(3)"
   ]
  },
  {
   "cell_type": "code",
   "execution_count": 4,
   "metadata": {},
   "outputs": [
    {
     "data": {
      "text/plain": [
       "(4810, 3)"
      ]
     },
     "execution_count": 4,
     "metadata": {},
     "output_type": "execute_result"
    }
   ],
   "source": [
    "data.shape"
   ]
  },
  {
   "cell_type": "markdown",
   "metadata": {},
   "source": [
    "### Transition Matrix"
   ]
  },
  {
   "cell_type": "code",
   "execution_count": 5,
   "metadata": {},
   "outputs": [],
   "source": [
    "window_order = list(data.window.unique())"
   ]
  },
  {
   "cell_type": "code",
   "execution_count": 6,
   "metadata": {},
   "outputs": [],
   "source": [
    "#returns list of windows that come after param win (str)\n",
    "def get_next_window(win, df): \n",
    "    windows_after_win = []\n",
    "    for i in range(len(df) - 1): #-1 so it doesnt run on last entry\n",
    "        #if current window is win\n",
    "        if df['window'].iloc[i] == win:\n",
    "            #doesn't matter what window is next, just log next window\n",
    "            windows_after_win.append(df['window'].iloc[i+1]) \n",
    "            \n",
    "#             #if next window is a different window\n",
    "#             if df['window'].iloc[i+1] != win:\n",
    "#                 #log the window after win\n",
    "#                 windows_after_win.append(df['window'].iloc[i+1])         \n",
    "    return windows_after_win"
   ]
  },
  {
   "cell_type": "code",
   "execution_count": 7,
   "metadata": {},
   "outputs": [],
   "source": [
    "#returns series of conditional probs for succeeding window(s) for a given win\n",
    "def get_cond_probs(win,df):\n",
    "    temp_windows = pd.Series(get_next_window(win, df))\n",
    "    return temp_windows.value_counts() / temp_windows.value_counts().sum()"
   ]
  },
  {
   "cell_type": "code",
   "execution_count": 8,
   "metadata": {},
   "outputs": [],
   "source": [
    "#creating the n x n transistion matrix\n",
    "#n = num of unique windows\n",
    "#indeces is the order of window_order\n",
    "\n",
    "trans_matrix = []\n",
    "for curr_win in window_order:\n",
    "    curr_row  = [0] * len(window_order)\n",
    "    probs = get_cond_probs(curr_win, data)\n",
    "    probs_dict = dict(probs)\n",
    "    for win in probs.index:\n",
    "        prob = probs_dict[win]\n",
    "        i = window_order.index(win)\n",
    "        curr_row[i] = prob\n",
    "    trans_matrix.append(curr_row)"
   ]
  },
  {
   "cell_type": "code",
   "execution_count": 9,
   "metadata": {},
   "outputs": [],
   "source": [
    "#returns transisiton matrix for the HMM \n",
    "#creates the n x n transistion matrix\n",
    "#n = num of unique windows\n",
    "#indeces is the order of window_order\n",
    "#rows denote prob for window_order[win] for every other window\n",
    "\n",
    "def transition_matrix(data):\n",
    "    window_order = list(data.window.unique())\n",
    "    trans_matrix = []\n",
    "    for curr_win in window_order:\n",
    "        curr_row  = [0] * len(window_order)\n",
    "        probs = get_cond_probs(curr_win, data)\n",
    "        probs_dict = dict(probs)\n",
    "        for win in probs.index:\n",
    "            prob = probs_dict[win]\n",
    "            i = window_order.index(win)\n",
    "            curr_row[i] = prob\n",
    "        trans_matrix.append(curr_row)\n",
    "    return trans_matrix"
   ]
  },
  {
   "cell_type": "code",
   "execution_count": null,
   "metadata": {},
   "outputs": [],
   "source": []
  },
  {
   "cell_type": "markdown",
   "metadata": {},
   "source": [
    "### Emission Matrix"
   ]
  },
  {
   "cell_type": "code",
   "execution_count": 18,
   "metadata": {
    "scrolled": true
   },
   "outputs": [],
   "source": [
    "def get_immersive_prob(win, data):\n",
    "    win_data = data[data.window == win]\n",
    "    total_is_immersive = win_data.is_immersive.value_counts().sum() #this doesn't count values of NaN\n",
    "    num_immersive = len(win_data[win_data.is_immersive == 1])\n",
    "    return num_immersive / total_is_immersive"
   ]
  },
  {
   "cell_type": "code",
   "execution_count": 21,
   "metadata": {},
   "outputs": [
    {
     "name": "stderr",
     "output_type": "stream",
     "text": [
      "C:\\Users\\Andrew Chin\\Anaconda3\\lib\\site-packages\\ipykernel_launcher.py:5: RuntimeWarning: invalid value encountered in longlong_scalars\n",
      "  \"\"\"\n"
     ]
    }
   ],
   "source": [
    "# Create the immersive row for the emission matrix which just a 1 x 53 matrix for now\n",
    "is_immersive_row = []\n",
    "for win in window_order:\n",
    "    is_immersive_row.append(get_immersive_prob(win, data))"
   ]
  },
  {
   "cell_type": "code",
   "execution_count": 25,
   "metadata": {},
   "outputs": [
    {
     "name": "stdout",
     "output_type": "stream",
     "text": [
      "[0.0, 1.0, 0.0, 0.0, 1.0, 1.0, 0.0, 0.0, 0.0, 1.0, 0.0, 1.0, 0.0, 1.0, 1.0, 0.0, 1.0, 0.0, 0.0, 0.0, 0.0, 0.0, 0.0, 1.0, 0.0, 0.0, 0.0, 1.0, 1.0, 1.0, 0.0, 0.0, 0.0, 0.0, 0.0, 1.0, nan, 1.0, 1.0, 0.0, 1.0, 0.0, 0.0, 0.0, 0.0, 0.0, 0.0, 0.0, 1.0, 0.0, 0.0, 0.0, nan]\n"
     ]
    }
   ],
   "source": [
    "print(is_immersive_row)"
   ]
  },
  {
   "cell_type": "markdown",
   "metadata": {},
   "source": [
    "Seems like there are nan values in the matrix so lets take a closer look"
   ]
  },
  {
   "cell_type": "code",
   "execution_count": 26,
   "metadata": {},
   "outputs": [
    {
     "data": {
      "text/plain": [
       "'spotify_installer-1.1.76.447.g11f432d8-14.exe'"
      ]
     },
     "execution_count": 26,
     "metadata": {},
     "output_type": "execute_result"
    }
   ],
   "source": [
    "#last value is a nan, lets see what window that is\n",
    "window_order[-1]"
   ]
  },
  {
   "cell_type": "code",
   "execution_count": 29,
   "metadata": {},
   "outputs": [
    {
     "data": {
      "text/html": [
       "<div>\n",
       "<style scoped>\n",
       "    .dataframe tbody tr th:only-of-type {\n",
       "        vertical-align: middle;\n",
       "    }\n",
       "\n",
       "    .dataframe tbody tr th {\n",
       "        vertical-align: top;\n",
       "    }\n",
       "\n",
       "    .dataframe thead th {\n",
       "        text-align: right;\n",
       "    }\n",
       "</style>\n",
       "<table border=\"1\" class=\"dataframe\">\n",
       "  <thead>\n",
       "    <tr style=\"text-align: right;\">\n",
       "      <th></th>\n",
       "      <th>time</th>\n",
       "      <th>window</th>\n",
       "      <th>is_immersive</th>\n",
       "    </tr>\n",
       "  </thead>\n",
       "  <tbody>\n",
       "    <tr>\n",
       "      <th>4576</th>\n",
       "      <td>2022-01-11 19:16:59.779</td>\n",
       "      <td>spotify_installer-1.1.76.447.g11f432d8-14.exe</td>\n",
       "      <td>NaN</td>\n",
       "    </tr>\n",
       "  </tbody>\n",
       "</table>\n",
       "</div>"
      ],
      "text/plain": [
       "                         time                                         window  \\\n",
       "4576  2022-01-11 19:16:59.779  spotify_installer-1.1.76.447.g11f432d8-14.exe   \n",
       "\n",
       "      is_immersive  \n",
       "4576           NaN  "
      ]
     },
     "execution_count": 29,
     "metadata": {},
     "output_type": "execute_result"
    }
   ],
   "source": [
    "data[data.window == 'spotify_installer-1.1.76.447.g11f432d8-14.exe']#.is_immersive.value_counts(dropna = False)"
   ]
  },
  {
   "cell_type": "markdown",
   "metadata": {},
   "source": [
    "Since some windows have only NaNs as an is_immersive value, they will be manually changed to 0s since the majority of windows are not Windows Store applications."
   ]
  },
  {
   "cell_type": "code",
   "execution_count": 32,
   "metadata": {},
   "outputs": [
    {
     "data": {
      "text/plain": [
       "numpy.float64"
      ]
     },
     "execution_count": 32,
     "metadata": {},
     "output_type": "execute_result"
    }
   ],
   "source": [
    "type(is_immersive_row[-1])"
   ]
  },
  {
   "cell_type": "code",
   "execution_count": 35,
   "metadata": {
    "scrolled": true
   },
   "outputs": [
    {
     "name": "stdout",
     "output_type": "stream",
     "text": [
      "[0.0, 1.0, 0.0, 0.0, 1.0, 1.0, 0.0, 0.0, 0.0, 1.0, 0.0, 1.0, 0.0, 1.0, 1.0, 0.0, 1.0, 0.0, 0.0, 0.0, 0.0, 0.0, 0.0, 1.0, 0.0, 0.0, 0.0, 1.0, 1.0, 1.0, 0.0, 0.0, 0.0, 0.0, 0.0, 1.0, 0.0, 1.0, 1.0, 0.0, 1.0, 0.0, 0.0, 0.0, 0.0, 0.0, 0.0, 0.0, 1.0, 0.0, 0.0, 0.0, 0.0]\n"
     ]
    }
   ],
   "source": [
    "#replacing the row with 0 if the probability is NaN\n",
    "is_immersive_row = [0.0 if math.isnan(x) else x for x in is_immersive_row]\n",
    "print(is_immersive_row)"
   ]
  },
  {
   "cell_type": "code",
   "execution_count": 41,
   "metadata": {},
   "outputs": [],
   "source": [
    "#takes in to account only the immersive prob \n",
    "#will be altered to fit multiple objective features\n",
    "def emission_matrix(data):\n",
    "    window_order = list(data.window.unique())\n",
    "    emis_matrix = []\n",
    "    for win in window_order:\n",
    "        emis_matrix.append(get_immersive_prob(win, data))\n",
    "    emis_matrix = [0.0 if math.isnan(x) else x for x in emis_matrix]\n",
    "    return [emis_matrix]  "
   ]
  },
  {
   "cell_type": "code",
   "execution_count": 42,
   "metadata": {},
   "outputs": [
    {
     "name": "stdout",
     "output_type": "stream",
     "text": [
      "[[0.0, 1.0, 0.0, 0.0, 1.0, 1.0, 0.0, 0.0, 0.0, 1.0, 0.0, 1.0, 0.0, 1.0, 1.0, 0.0, 1.0, 0.0, 0.0, 0.0, 0.0, 0.0, 0.0, 1.0, 0.0, 0.0, 0.0, 1.0, 1.0, 1.0, 0.0, 0.0, 0.0, 0.0, 0.0, 1.0, 0.0, 1.0, 1.0, 0.0, 1.0, 0.0, 0.0, 0.0, 0.0, 0.0, 0.0, 0.0, 1.0, 0.0, 0.0, 0.0, 0.0]]\n"
     ]
    },
    {
     "name": "stderr",
     "output_type": "stream",
     "text": [
      "C:\\Users\\Andrew Chin\\Anaconda3\\lib\\site-packages\\ipykernel_launcher.py:5: RuntimeWarning: invalid value encountered in longlong_scalars\n",
      "  \"\"\"\n"
     ]
    }
   ],
   "source": [
    "print(emission_matrix(data))"
   ]
  },
  {
   "cell_type": "code",
   "execution_count": null,
   "metadata": {},
   "outputs": [],
   "source": []
  }
 ],
 "metadata": {
  "kernelspec": {
   "display_name": "Python 3",
   "language": "python",
   "name": "python3"
  },
  "language_info": {
   "codemirror_mode": {
    "name": "ipython",
    "version": 3
   },
   "file_extension": ".py",
   "mimetype": "text/x-python",
   "name": "python",
   "nbconvert_exporter": "python",
   "pygments_lexer": "ipython3",
   "version": "3.7.3"
  }
 },
 "nbformat": 4,
 "nbformat_minor": 2
}

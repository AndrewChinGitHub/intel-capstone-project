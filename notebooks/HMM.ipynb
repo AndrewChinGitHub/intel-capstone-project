{
 "cells": [
  {
   "cell_type": "code",
   "execution_count": 127,
   "metadata": {},
   "outputs": [],
   "source": [
    "import pandas as pd\n",
    "import seaborn as sns \n",
    "import matplotlib as plt\n",
    "import numpy as np\n",
    "import math\n",
    "import sklearn"
   ]
  },
  {
   "cell_type": "markdown",
   "metadata": {},
   "source": [
    "### Load in Data"
   ]
  },
  {
   "cell_type": "code",
   "execution_count": 2,
   "metadata": {},
   "outputs": [],
   "source": [
    "window_data = pd.read_csv(\"data/first_31dbs_counters_string_time_data.csv\")\n",
    "immersive_data = pd.read_csv(\"data/first_31dbs_isImmersive_data.csv\")"
   ]
  },
  {
   "cell_type": "code",
   "execution_count": 3,
   "metadata": {},
   "outputs": [
    {
     "data": {
      "text/html": [
       "<div>\n",
       "<style scoped>\n",
       "    .dataframe tbody tr th:only-of-type {\n",
       "        vertical-align: middle;\n",
       "    }\n",
       "\n",
       "    .dataframe tbody tr th {\n",
       "        vertical-align: top;\n",
       "    }\n",
       "\n",
       "    .dataframe thead th {\n",
       "        text-align: right;\n",
       "    }\n",
       "</style>\n",
       "<table border=\"1\" class=\"dataframe\">\n",
       "  <thead>\n",
       "    <tr style=\"text-align: right;\">\n",
       "      <th></th>\n",
       "      <th>time</th>\n",
       "      <th>window</th>\n",
       "      <th>is_immersive</th>\n",
       "    </tr>\n",
       "  </thead>\n",
       "  <tbody>\n",
       "    <tr>\n",
       "      <th>0</th>\n",
       "      <td>2021-11-12 18:17:47.026</td>\n",
       "      <td>cmd.exe</td>\n",
       "      <td>0.0</td>\n",
       "    </tr>\n",
       "    <tr>\n",
       "      <th>1</th>\n",
       "      <td>2021-11-12 18:17:54.031</td>\n",
       "      <td>SearchApp.exe</td>\n",
       "      <td>1.0</td>\n",
       "    </tr>\n",
       "    <tr>\n",
       "      <th>2</th>\n",
       "      <td>2021-11-12 18:18:16.046</td>\n",
       "      <td>cmd.exe</td>\n",
       "      <td>0.0</td>\n",
       "    </tr>\n",
       "  </tbody>\n",
       "</table>\n",
       "</div>"
      ],
      "text/plain": [
       "                      time         window  is_immersive\n",
       "0  2021-11-12 18:17:47.026        cmd.exe           0.0\n",
       "1  2021-11-12 18:17:54.031  SearchApp.exe           1.0\n",
       "2  2021-11-12 18:18:16.046        cmd.exe           0.0"
      ]
     },
     "execution_count": 3,
     "metadata": {},
     "output_type": "execute_result"
    }
   ],
   "source": [
    "#joined tables on the time according to rows in the window data\n",
    "data = window_data.merge(immersive_data, on = \"time\", how = 'left')\n",
    "\n",
    "#data clean\n",
    "data = data[data.is_immersive != -9.223372036854776e+18] #happens only 5 times in the data\n",
    "data.head(3)"
   ]
  },
  {
   "cell_type": "code",
   "execution_count": 4,
   "metadata": {},
   "outputs": [
    {
     "data": {
      "text/plain": [
       "(4810, 3)"
      ]
     },
     "execution_count": 4,
     "metadata": {},
     "output_type": "execute_result"
    }
   ],
   "source": [
    "data.shape"
   ]
  },
  {
   "cell_type": "markdown",
   "metadata": {},
   "source": [
    "### Transition Matrix"
   ]
  },
  {
   "cell_type": "code",
   "execution_count": 5,
   "metadata": {},
   "outputs": [],
   "source": [
    "window_order = list(data.window.unique())"
   ]
  },
  {
   "cell_type": "code",
   "execution_count": 6,
   "metadata": {},
   "outputs": [],
   "source": [
    "#returns list of windows that come after param win (str)\n",
    "def get_next_window(win, df): \n",
    "    windows_after_win = []\n",
    "    for i in range(len(df) - 1): #-1 so it doesnt run on last entry\n",
    "        #if current window is win\n",
    "        if df['window'].iloc[i] == win:\n",
    "            #doesn't matter what window is next, just log next window\n",
    "            windows_after_win.append(df['window'].iloc[i+1])        \n",
    "    return windows_after_win"
   ]
  },
  {
   "cell_type": "code",
   "execution_count": 7,
   "metadata": {},
   "outputs": [],
   "source": [
    "#returns series of conditional probs for succeeding window(s) for a given win\n",
    "def get_cond_probs(win,df):\n",
    "    temp_windows = pd.Series(get_next_window(win, df))\n",
    "    return temp_windows.value_counts() / temp_windows.value_counts().sum()"
   ]
  },
  {
   "cell_type": "code",
   "execution_count": 8,
   "metadata": {},
   "outputs": [],
   "source": [
    "#creating the n x n transistion matrix\n",
    "#n = num of unique windows\n",
    "#indeces is the order of window_order\n",
    "\n",
    "trans_matrix = []\n",
    "for curr_win in window_order:\n",
    "    curr_row  = [0] * len(window_order)\n",
    "    probs = get_cond_probs(curr_win, data)\n",
    "    probs_dict = dict(probs)\n",
    "    for win in probs.index:\n",
    "        prob = probs_dict[win]\n",
    "        i = window_order.index(win)\n",
    "        curr_row[i] = prob\n",
    "    trans_matrix.append(curr_row)"
   ]
  },
  {
   "cell_type": "code",
   "execution_count": 9,
   "metadata": {},
   "outputs": [],
   "source": [
    "#returns transisiton matrix for the HMM \n",
    "#creates the n x n transistion matrix\n",
    "#n = num of unique windows\n",
    "#indeces is the order of window_order\n",
    "#rows denote prob for window_order[win] for every other window\n",
    "\n",
    "def transition_matrix(data):\n",
    "    window_order = list(data.window.unique())\n",
    "    trans_matrix = []\n",
    "    for curr_win in window_order:\n",
    "        curr_row  = [0] * len(window_order)\n",
    "        probs = get_cond_probs(curr_win, data)\n",
    "        probs_dict = dict(probs)\n",
    "        for win in probs.index:\n",
    "            prob = probs_dict[win]\n",
    "            i = window_order.index(win)\n",
    "            curr_row[i] = prob\n",
    "        trans_matrix.append(curr_row)\n",
    "    return trans_matrix"
   ]
  },
  {
   "cell_type": "code",
   "execution_count": 10,
   "metadata": {},
   "outputs": [],
   "source": [
    "# print(transition_matrix(data))"
   ]
  },
  {
   "attachments": {
    "image.png": {
     "image/png": "[encoded data removed]"
    }
   },
   "cell_type": "markdown",
   "metadata": {},
   "source": [
    "![image.png](attachment:image.png)"
   ]
  },
  {
   "cell_type": "markdown",
   "metadata": {},
   "source": [
    "The output is an n x n matrix. In our case it's a 53 x 53 matrix. \n",
    "<br> It's read col-wise. In other words, a number is the probability that number's **col** appears **after** that number's **row**.\n",
    "<br> For example, 0.126...(red underline) is the probability that col 1 (cmd.exe) appears after row 1 (cmd.exe).\n",
    "<br> Likewise, 0.053...(blue underline) is the probability that col 2 (SearchApp.exe) appears after row 1 (cmd.exe)"
   ]
  },
  {
   "cell_type": "code",
   "execution_count": 11,
   "metadata": {},
   "outputs": [
    {
     "data": {
      "text/plain": [
       "['cmd.exe', 'SearchApp.exe']"
      ]
     },
     "execution_count": 11,
     "metadata": {},
     "output_type": "execute_result"
    }
   ],
   "source": [
    "#First 2 windows of window_order\n",
    "window_order[:2]"
   ]
  },
  {
   "cell_type": "markdown",
   "metadata": {},
   "source": [
    "### Emission Matrix"
   ]
  },
  {
   "cell_type": "code",
   "execution_count": 12,
   "metadata": {
    "scrolled": true
   },
   "outputs": [],
   "source": [
    "def get_immersive_prob(win, data):\n",
    "    win_data = data[data.window == win]\n",
    "    total_is_immersive = win_data.is_immersive.value_counts().sum() #this doesn't count values of NaN\n",
    "    num_immersive = len(win_data[win_data.is_immersive == 1])\n",
    "    return num_immersive / total_is_immersive"
   ]
  },
  {
   "cell_type": "code",
   "execution_count": 13,
   "metadata": {},
   "outputs": [
    {
     "name": "stderr",
     "output_type": "stream",
     "text": [
      "C:\\Users\\Andrew Chin\\Anaconda3\\lib\\site-packages\\ipykernel_launcher.py:5: RuntimeWarning: invalid value encountered in longlong_scalars\n",
      "  \"\"\"\n"
     ]
    }
   ],
   "source": [
    "# Create the immersive row for the emission matrix which just a 1 x 53 matrix for now\n",
    "is_immersive_row = []\n",
    "for win in window_order:\n",
    "    is_immersive_row.append(get_immersive_prob(win, data))"
   ]
  },
  {
   "cell_type": "code",
   "execution_count": 14,
   "metadata": {},
   "outputs": [
    {
     "name": "stdout",
     "output_type": "stream",
     "text": [
      "[0.0, 1.0, 0.0, 0.0, 1.0, 1.0, 0.0, 0.0, 0.0, 1.0, 0.0, 1.0, 0.0, 1.0, 1.0, 0.0, 1.0, 0.0, 0.0, 0.0, 0.0, 0.0, 0.0, 1.0, 0.0, 0.0, 0.0, 1.0, 1.0, 1.0, 0.0, 0.0, 0.0, 0.0, 0.0, 1.0, nan, 1.0, 1.0, 0.0, 1.0, 0.0, 0.0, 0.0, 0.0, 0.0, 0.0, 0.0, 1.0, 0.0, 0.0, 0.0, nan]\n"
     ]
    }
   ],
   "source": [
    "print(is_immersive_row)"
   ]
  },
  {
   "cell_type": "markdown",
   "metadata": {},
   "source": [
    "Seems like there are nan values in the matrix so lets take a closer look"
   ]
  },
  {
   "cell_type": "code",
   "execution_count": 15,
   "metadata": {},
   "outputs": [
    {
     "data": {
      "text/plain": [
       "'spotify_installer-1.1.76.447.g11f432d8-14.exe'"
      ]
     },
     "execution_count": 15,
     "metadata": {},
     "output_type": "execute_result"
    }
   ],
   "source": [
    "#last value is a nan, lets see what window that is\n",
    "window_order[-1]"
   ]
  },
  {
   "cell_type": "code",
   "execution_count": 16,
   "metadata": {},
   "outputs": [
    {
     "data": {
      "text/html": [
       "<div>\n",
       "<style scoped>\n",
       "    .dataframe tbody tr th:only-of-type {\n",
       "        vertical-align: middle;\n",
       "    }\n",
       "\n",
       "    .dataframe tbody tr th {\n",
       "        vertical-align: top;\n",
       "    }\n",
       "\n",
       "    .dataframe thead th {\n",
       "        text-align: right;\n",
       "    }\n",
       "</style>\n",
       "<table border=\"1\" class=\"dataframe\">\n",
       "  <thead>\n",
       "    <tr style=\"text-align: right;\">\n",
       "      <th></th>\n",
       "      <th>time</th>\n",
       "      <th>window</th>\n",
       "      <th>is_immersive</th>\n",
       "    </tr>\n",
       "  </thead>\n",
       "  <tbody>\n",
       "    <tr>\n",
       "      <th>4576</th>\n",
       "      <td>2022-01-11 19:16:59.779</td>\n",
       "      <td>spotify_installer-1.1.76.447.g11f432d8-14.exe</td>\n",
       "      <td>NaN</td>\n",
       "    </tr>\n",
       "  </tbody>\n",
       "</table>\n",
       "</div>"
      ],
      "text/plain": [
       "                         time                                         window  \\\n",
       "4576  2022-01-11 19:16:59.779  spotify_installer-1.1.76.447.g11f432d8-14.exe   \n",
       "\n",
       "      is_immersive  \n",
       "4576           NaN  "
      ]
     },
     "execution_count": 16,
     "metadata": {},
     "output_type": "execute_result"
    }
   ],
   "source": [
    "data[data.window == 'spotify_installer-1.1.76.447.g11f432d8-14.exe']#.is_immersive.value_counts(dropna = False)"
   ]
  },
  {
   "cell_type": "markdown",
   "metadata": {},
   "source": [
    "Since some windows have only NaNs as an is_immersive value, they will be manually changed to 0s since the majority of windows are not Windows Store applications."
   ]
  },
  {
   "cell_type": "code",
   "execution_count": 17,
   "metadata": {},
   "outputs": [
    {
     "data": {
      "text/plain": [
       "numpy.float64"
      ]
     },
     "execution_count": 17,
     "metadata": {},
     "output_type": "execute_result"
    }
   ],
   "source": [
    "type(is_immersive_row[-1])"
   ]
  },
  {
   "cell_type": "code",
   "execution_count": 18,
   "metadata": {
    "scrolled": true
   },
   "outputs": [
    {
     "name": "stdout",
     "output_type": "stream",
     "text": [
      "[0.0, 1.0, 0.0, 0.0, 1.0, 1.0, 0.0, 0.0, 0.0, 1.0, 0.0, 1.0, 0.0, 1.0, 1.0, 0.0, 1.0, 0.0, 0.0, 0.0, 0.0, 0.0, 0.0, 1.0, 0.0, 0.0, 0.0, 1.0, 1.0, 1.0, 0.0, 0.0, 0.0, 0.0, 0.0, 1.0, 0.0, 1.0, 1.0, 0.0, 1.0, 0.0, 0.0, 0.0, 0.0, 0.0, 0.0, 0.0, 1.0, 0.0, 0.0, 0.0, 0.0]\n"
     ]
    }
   ],
   "source": [
    "#replacing the row with 0 if the probability is NaN\n",
    "is_immersive_row = [0.0 if math.isnan(x) else x for x in is_immersive_row]\n",
    "print(is_immersive_row)"
   ]
  },
  {
   "cell_type": "code",
   "execution_count": 19,
   "metadata": {},
   "outputs": [],
   "source": [
    "#takes in to account only the immersive prob \n",
    "#will be altered to fit multiple objective features\n",
    "def emission_matrix(data):\n",
    "    window_order = list(data.window.unique())\n",
    "    emis_matrix = []\n",
    "    for win in window_order:\n",
    "        emis_matrix.append(get_immersive_prob(win, data))\n",
    "    emis_matrix = [0.0 if math.isnan(x) else x for x in emis_matrix]\n",
    "    return [emis_matrix]  "
   ]
  },
  {
   "cell_type": "code",
   "execution_count": 20,
   "metadata": {},
   "outputs": [
    {
     "name": "stderr",
     "output_type": "stream",
     "text": [
      "C:\\Users\\Andrew Chin\\Anaconda3\\lib\\site-packages\\ipykernel_launcher.py:5: RuntimeWarning: invalid value encountered in longlong_scalars\n",
      "  \"\"\"\n"
     ]
    },
    {
     "name": "stdout",
     "output_type": "stream",
     "text": [
      "[[0.0, 1.0, 0.0, 0.0, 1.0, 1.0, 0.0, 0.0, 0.0, 1.0, 0.0, 1.0, 0.0, 1.0, 1.0, 0.0, 1.0, 0.0, 0.0, 0.0, 0.0, 0.0, 0.0, 1.0, 0.0, 0.0, 0.0, 1.0, 1.0, 1.0, 0.0, 0.0, 0.0, 0.0, 0.0, 1.0, 0.0, 1.0, 1.0, 0.0, 1.0, 0.0, 0.0, 0.0, 0.0, 0.0, 0.0, 0.0, 1.0, 0.0, 0.0, 0.0, 0.0]]\n"
     ]
    }
   ],
   "source": [
    "print(emission_matrix(data))"
   ]
  },
  {
   "cell_type": "markdown",
   "metadata": {},
   "source": [
    "## Predictor"
   ]
  },
  {
   "cell_type": "markdown",
   "metadata": {},
   "source": [
    "Now, let't build the predictor. Essentially, we will be predicting which app will come after a given app. We do this by picking the top 5 highest probabilities from our transition matrix. \n",
    "<br> The window_order is essential as it allows us to track the indeces of the transition and emission matrices"
   ]
  },
  {
   "cell_type": "code",
   "execution_count": 30,
   "metadata": {},
   "outputs": [
    {
     "name": "stdout",
     "output_type": "stream",
     "text": [
      "['cmd.exe', 'SearchApp.exe', 'notepad++.exe', 'chrome.exe', 'explorer.exe', 'ApplicationFrameHost.exe', 'Code.exe', 'CodeSetup-stable-3a6960b964327f0e3882ce18fcebd07ed191b316.tmp', 'Teams.exe', 'LockApp.exe', 'devenv.exe', 'HxOutlook.exe', 'EXCEL.EXE', 'ShellExperienceHost.exe', 'OpenWith.exe', 'notepad.exe', 'Microsoft.AAD.BrokerPlugin.exe', 'Spotify.exe', 'python.exe', 'Discord.exe', 'DB Browser for SQLite.exe', 'WINWORD.EXE', '7zG.exe', 'ScreenClippingHost.exe', 'msedge.exe', 'mmc.exe', 'Zoom.exe', 'SystemSettings.exe', 'Taskmgr.exe', 'StartMenuExperienceHost.exe', 'VsDebugConsole.exe', 'world_of_tanks_install_na_cftbfe6fxhhv.tmp', 'world_of_tanks_install_na_cftbfe6fxhhv (1).tmp', 'wgc_renderer_host.exe', 'wgc.exe', 'PickerHost.exe', 'atom.exe', 'Microsoft.Photos.exe', 'WindowsCamera.exe', 'Docker Desktop.exe', 'SystemSettingsAdminFlows.exe', 'vpnui.exe', 'world_of_tanks_install_na_cga3n2xecmlf.tmp', 'WorldOfTanks.exe', 'spotify_installer-1.1.73.517.gbef50fdb-23.exe', 'msoasb.exe', 'CodeSetup-stable-899d46d82c4c95423fb7e10e68eba52050e30ba3.tmp', 'rundll32.exe', 'HxCalendarAppImm.exe', 'spotify_installer-1.1.74.631.g0b24d9ad-16.exe', 'Installer.exe', 'zCefAgent.exe', 'spotify_installer-1.1.76.447.g11f432d8-14.exe']\n",
      "\n",
      "Number of rows and cols:\n",
      "53\n"
     ]
    },
    {
     "data": {
      "text/plain": [
       "(None, None, None)"
      ]
     },
     "execution_count": 30,
     "metadata": {},
     "output_type": "execute_result"
    }
   ],
   "source": [
    "print(window_order), print(\"\\nNumber of rows and cols:\"), print(len(window_order))"
   ]
  },
  {
   "cell_type": "code",
   "execution_count": 23,
   "metadata": {},
   "outputs": [],
   "source": [
    "temp_trans_matrix = transition_matrix(data)"
   ]
  },
  {
   "cell_type": "code",
   "execution_count": 39,
   "metadata": {},
   "outputs": [
    {
     "data": {
      "text/html": [
       "<div>\n",
       "<style scoped>\n",
       "    .dataframe tbody tr th:only-of-type {\n",
       "        vertical-align: middle;\n",
       "    }\n",
       "\n",
       "    .dataframe tbody tr th {\n",
       "        vertical-align: top;\n",
       "    }\n",
       "\n",
       "    .dataframe thead th {\n",
       "        text-align: right;\n",
       "    }\n",
       "</style>\n",
       "<table border=\"1\" class=\"dataframe\">\n",
       "  <thead>\n",
       "    <tr style=\"text-align: right;\">\n",
       "      <th></th>\n",
       "      <th>cmd.exe</th>\n",
       "      <th>SearchApp.exe</th>\n",
       "      <th>notepad++.exe</th>\n",
       "      <th>chrome.exe</th>\n",
       "      <th>explorer.exe</th>\n",
       "      <th>ApplicationFrameHost.exe</th>\n",
       "      <th>Code.exe</th>\n",
       "      <th>CodeSetup-stable-3a6960b964327f0e3882ce18fcebd07ed191b316.tmp</th>\n",
       "      <th>Teams.exe</th>\n",
       "      <th>LockApp.exe</th>\n",
       "      <th>...</th>\n",
       "      <th>WorldOfTanks.exe</th>\n",
       "      <th>spotify_installer-1.1.73.517.gbef50fdb-23.exe</th>\n",
       "      <th>msoasb.exe</th>\n",
       "      <th>CodeSetup-stable-899d46d82c4c95423fb7e10e68eba52050e30ba3.tmp</th>\n",
       "      <th>rundll32.exe</th>\n",
       "      <th>HxCalendarAppImm.exe</th>\n",
       "      <th>spotify_installer-1.1.74.631.g0b24d9ad-16.exe</th>\n",
       "      <th>Installer.exe</th>\n",
       "      <th>zCefAgent.exe</th>\n",
       "      <th>spotify_installer-1.1.76.447.g11f432d8-14.exe</th>\n",
       "    </tr>\n",
       "  </thead>\n",
       "  <tbody>\n",
       "    <tr>\n",
       "      <th>cmd.exe</th>\n",
       "      <td>0.126667</td>\n",
       "      <td>0.053333</td>\n",
       "      <td>0.000000</td>\n",
       "      <td>0.193333</td>\n",
       "      <td>0.400000</td>\n",
       "      <td>0.006667</td>\n",
       "      <td>0.000000</td>\n",
       "      <td>0.000000</td>\n",
       "      <td>0.040000</td>\n",
       "      <td>0.013333</td>\n",
       "      <td>...</td>\n",
       "      <td>0.000000</td>\n",
       "      <td>0.000000</td>\n",
       "      <td>0.000000</td>\n",
       "      <td>0.0</td>\n",
       "      <td>0.0</td>\n",
       "      <td>0.000000</td>\n",
       "      <td>0.000000</td>\n",
       "      <td>0.000000</td>\n",
       "      <td>0.000000</td>\n",
       "      <td>0.000000</td>\n",
       "    </tr>\n",
       "    <tr>\n",
       "      <th>SearchApp.exe</th>\n",
       "      <td>0.020833</td>\n",
       "      <td>0.000000</td>\n",
       "      <td>0.006944</td>\n",
       "      <td>0.201389</td>\n",
       "      <td>0.159722</td>\n",
       "      <td>0.138889</td>\n",
       "      <td>0.000000</td>\n",
       "      <td>0.000000</td>\n",
       "      <td>0.020833</td>\n",
       "      <td>0.000000</td>\n",
       "      <td>...</td>\n",
       "      <td>0.000000</td>\n",
       "      <td>0.000000</td>\n",
       "      <td>0.000000</td>\n",
       "      <td>0.0</td>\n",
       "      <td>0.0</td>\n",
       "      <td>0.000000</td>\n",
       "      <td>0.000000</td>\n",
       "      <td>0.000000</td>\n",
       "      <td>0.000000</td>\n",
       "      <td>0.000000</td>\n",
       "    </tr>\n",
       "    <tr>\n",
       "      <th>notepad++.exe</th>\n",
       "      <td>0.000000</td>\n",
       "      <td>0.100000</td>\n",
       "      <td>0.000000</td>\n",
       "      <td>0.300000</td>\n",
       "      <td>0.200000</td>\n",
       "      <td>0.000000</td>\n",
       "      <td>0.000000</td>\n",
       "      <td>0.000000</td>\n",
       "      <td>0.100000</td>\n",
       "      <td>0.000000</td>\n",
       "      <td>...</td>\n",
       "      <td>0.000000</td>\n",
       "      <td>0.000000</td>\n",
       "      <td>0.000000</td>\n",
       "      <td>0.0</td>\n",
       "      <td>0.0</td>\n",
       "      <td>0.000000</td>\n",
       "      <td>0.000000</td>\n",
       "      <td>0.000000</td>\n",
       "      <td>0.000000</td>\n",
       "      <td>0.000000</td>\n",
       "    </tr>\n",
       "    <tr>\n",
       "      <th>chrome.exe</th>\n",
       "      <td>0.019542</td>\n",
       "      <td>0.035040</td>\n",
       "      <td>0.002695</td>\n",
       "      <td>0.186658</td>\n",
       "      <td>0.161725</td>\n",
       "      <td>0.012803</td>\n",
       "      <td>0.000674</td>\n",
       "      <td>0.000000</td>\n",
       "      <td>0.048518</td>\n",
       "      <td>0.072102</td>\n",
       "      <td>...</td>\n",
       "      <td>0.004717</td>\n",
       "      <td>0.000000</td>\n",
       "      <td>0.000674</td>\n",
       "      <td>0.0</td>\n",
       "      <td>0.0</td>\n",
       "      <td>0.000674</td>\n",
       "      <td>0.000674</td>\n",
       "      <td>0.000674</td>\n",
       "      <td>0.000000</td>\n",
       "      <td>0.000000</td>\n",
       "    </tr>\n",
       "    <tr>\n",
       "      <th>explorer.exe</th>\n",
       "      <td>0.060241</td>\n",
       "      <td>0.034940</td>\n",
       "      <td>0.003614</td>\n",
       "      <td>0.395181</td>\n",
       "      <td>0.004819</td>\n",
       "      <td>0.014458</td>\n",
       "      <td>0.006024</td>\n",
       "      <td>0.001205</td>\n",
       "      <td>0.103614</td>\n",
       "      <td>0.030120</td>\n",
       "      <td>...</td>\n",
       "      <td>0.000000</td>\n",
       "      <td>0.001205</td>\n",
       "      <td>0.000000</td>\n",
       "      <td>0.0</td>\n",
       "      <td>0.0</td>\n",
       "      <td>0.000000</td>\n",
       "      <td>0.000000</td>\n",
       "      <td>0.000000</td>\n",
       "      <td>0.001205</td>\n",
       "      <td>0.001205</td>\n",
       "    </tr>\n",
       "  </tbody>\n",
       "</table>\n",
       "<p>5 rows × 53 columns</p>\n",
       "</div>"
      ],
      "text/plain": [
       "                cmd.exe  SearchApp.exe  notepad++.exe  chrome.exe  \\\n",
       "cmd.exe        0.126667       0.053333       0.000000    0.193333   \n",
       "SearchApp.exe  0.020833       0.000000       0.006944    0.201389   \n",
       "notepad++.exe  0.000000       0.100000       0.000000    0.300000   \n",
       "chrome.exe     0.019542       0.035040       0.002695    0.186658   \n",
       "explorer.exe   0.060241       0.034940       0.003614    0.395181   \n",
       "\n",
       "               explorer.exe  ApplicationFrameHost.exe  Code.exe  \\\n",
       "cmd.exe            0.400000                  0.006667  0.000000   \n",
       "SearchApp.exe      0.159722                  0.138889  0.000000   \n",
       "notepad++.exe      0.200000                  0.000000  0.000000   \n",
       "chrome.exe         0.161725                  0.012803  0.000674   \n",
       "explorer.exe       0.004819                  0.014458  0.006024   \n",
       "\n",
       "               CodeSetup-stable-3a6960b964327f0e3882ce18fcebd07ed191b316.tmp  \\\n",
       "cmd.exe                                                 0.000000               \n",
       "SearchApp.exe                                           0.000000               \n",
       "notepad++.exe                                           0.000000               \n",
       "chrome.exe                                              0.000000               \n",
       "explorer.exe                                            0.001205               \n",
       "\n",
       "               Teams.exe  LockApp.exe  ...  WorldOfTanks.exe  \\\n",
       "cmd.exe         0.040000     0.013333  ...          0.000000   \n",
       "SearchApp.exe   0.020833     0.000000  ...          0.000000   \n",
       "notepad++.exe   0.100000     0.000000  ...          0.000000   \n",
       "chrome.exe      0.048518     0.072102  ...          0.004717   \n",
       "explorer.exe    0.103614     0.030120  ...          0.000000   \n",
       "\n",
       "               spotify_installer-1.1.73.517.gbef50fdb-23.exe  msoasb.exe  \\\n",
       "cmd.exe                                             0.000000    0.000000   \n",
       "SearchApp.exe                                       0.000000    0.000000   \n",
       "notepad++.exe                                       0.000000    0.000000   \n",
       "chrome.exe                                          0.000000    0.000674   \n",
       "explorer.exe                                        0.001205    0.000000   \n",
       "\n",
       "               CodeSetup-stable-899d46d82c4c95423fb7e10e68eba52050e30ba3.tmp  \\\n",
       "cmd.exe                                                      0.0               \n",
       "SearchApp.exe                                                0.0               \n",
       "notepad++.exe                                                0.0               \n",
       "chrome.exe                                                   0.0               \n",
       "explorer.exe                                                 0.0               \n",
       "\n",
       "               rundll32.exe  HxCalendarAppImm.exe  \\\n",
       "cmd.exe                 0.0              0.000000   \n",
       "SearchApp.exe           0.0              0.000000   \n",
       "notepad++.exe           0.0              0.000000   \n",
       "chrome.exe              0.0              0.000674   \n",
       "explorer.exe            0.0              0.000000   \n",
       "\n",
       "               spotify_installer-1.1.74.631.g0b24d9ad-16.exe  Installer.exe  \\\n",
       "cmd.exe                                             0.000000       0.000000   \n",
       "SearchApp.exe                                       0.000000       0.000000   \n",
       "notepad++.exe                                       0.000000       0.000000   \n",
       "chrome.exe                                          0.000674       0.000674   \n",
       "explorer.exe                                        0.000000       0.000000   \n",
       "\n",
       "               zCefAgent.exe  spotify_installer-1.1.76.447.g11f432d8-14.exe  \n",
       "cmd.exe             0.000000                                       0.000000  \n",
       "SearchApp.exe       0.000000                                       0.000000  \n",
       "notepad++.exe       0.000000                                       0.000000  \n",
       "chrome.exe          0.000000                                       0.000000  \n",
       "explorer.exe        0.001205                                       0.001205  \n",
       "\n",
       "[5 rows x 53 columns]"
      ]
     },
     "execution_count": 39,
     "metadata": {},
     "output_type": "execute_result"
    }
   ],
   "source": [
    "temp_trans_df = pd.DataFrame(temp_trans_matrix)\n",
    "temp_trans_df.columns = window_order\n",
    "temp_trans_df.index = window_order\n",
    "temp_trans_df.head()"
   ]
  },
  {
   "cell_type": "code",
   "execution_count": 40,
   "metadata": {},
   "outputs": [
    {
     "data": {
      "text/plain": [
       "'cmd.exe'"
      ]
     },
     "execution_count": 40,
     "metadata": {},
     "output_type": "execute_result"
    }
   ],
   "source": [
    "data.window.iloc[0]"
   ]
  },
  {
   "cell_type": "code",
   "execution_count": 42,
   "metadata": {},
   "outputs": [
    {
     "name": "stderr",
     "output_type": "stream",
     "text": [
      "C:\\Users\\Andrew Chin\\Anaconda3\\lib\\site-packages\\ipykernel_launcher.py:5: RuntimeWarning: invalid value encountered in longlong_scalars\n",
      "  \"\"\"\n"
     ]
    }
   ],
   "source": [
    "temp_transemis_matrix = transition_matrix(data) + emission_matrix(data)"
   ]
  },
  {
   "cell_type": "code",
   "execution_count": 106,
   "metadata": {},
   "outputs": [],
   "source": [
    "def clean_data(data):\n",
    "\n",
    "    #clean is_immersive column\n",
    "    \n",
    "    #get specific nan float value\n",
    "    is_NaN = data.isnull()\n",
    "    row_has_NaN = is_NaN.any(axis=1)\n",
    "    rows_with_NaN = data[row_has_NaN]\n",
    "    nan_value = rows_with_NaN.iloc[0,0]\n",
    "    #get rid of any number other than 0, 1 or nan value\n",
    "    data = data[data.is_immersive.isin([0,1,nan_value])]\n",
    "    return data"
   ]
  },
  {
   "cell_type": "code",
   "execution_count": null,
   "metadata": {},
   "outputs": [],
   "source": [
    "def fit(self, X, y):\n",
    "    # Check that X and y have correct shape\n",
    "    X, y = check_X_y(X, y)\n",
    "    # Store the classes seen during fit\n",
    "    self.classes_ = unique_labels(y)\n",
    "\n",
    "    self.X_ = X\n",
    "    self.y_ = y\n",
    "    # Return the classifier\n",
    "    return self"
   ]
  },
  {
   "cell_type": "code",
   "execution_count": 120,
   "metadata": {},
   "outputs": [
    {
     "data": {
      "text/html": [
       "<div>\n",
       "<style scoped>\n",
       "    .dataframe tbody tr th:only-of-type {\n",
       "        vertical-align: middle;\n",
       "    }\n",
       "\n",
       "    .dataframe tbody tr th {\n",
       "        vertical-align: top;\n",
       "    }\n",
       "\n",
       "    .dataframe thead th {\n",
       "        text-align: right;\n",
       "    }\n",
       "</style>\n",
       "<table border=\"1\" class=\"dataframe\">\n",
       "  <thead>\n",
       "    <tr style=\"text-align: right;\">\n",
       "      <th></th>\n",
       "      <th>time</th>\n",
       "      <th>window</th>\n",
       "      <th>is_immersive</th>\n",
       "    </tr>\n",
       "  </thead>\n",
       "  <tbody>\n",
       "    <tr>\n",
       "      <th>0</th>\n",
       "      <td>2021-11-12 18:17:47.026</td>\n",
       "      <td>cmd.exe</td>\n",
       "      <td>0.0</td>\n",
       "    </tr>\n",
       "    <tr>\n",
       "      <th>1</th>\n",
       "      <td>2021-11-12 18:17:54.031</td>\n",
       "      <td>SearchApp.exe</td>\n",
       "      <td>1.0</td>\n",
       "    </tr>\n",
       "    <tr>\n",
       "      <th>2</th>\n",
       "      <td>2021-11-12 18:18:16.046</td>\n",
       "      <td>cmd.exe</td>\n",
       "      <td>0.0</td>\n",
       "    </tr>\n",
       "    <tr>\n",
       "      <th>3</th>\n",
       "      <td>2021-11-12 18:18:21.052</td>\n",
       "      <td>SearchApp.exe</td>\n",
       "      <td>1.0</td>\n",
       "    </tr>\n",
       "    <tr>\n",
       "      <th>4</th>\n",
       "      <td>2021-11-12 18:18:50.083</td>\n",
       "      <td>notepad++.exe</td>\n",
       "      <td>0.0</td>\n",
       "    </tr>\n",
       "  </tbody>\n",
       "</table>\n",
       "</div>"
      ],
      "text/plain": [
       "                      time         window  is_immersive\n",
       "0  2021-11-12 18:17:47.026        cmd.exe           0.0\n",
       "1  2021-11-12 18:17:54.031  SearchApp.exe           1.0\n",
       "2  2021-11-12 18:18:16.046        cmd.exe           0.0\n",
       "3  2021-11-12 18:18:21.052  SearchApp.exe           1.0\n",
       "4  2021-11-12 18:18:50.083  notepad++.exe           0.0"
      ]
     },
     "execution_count": 120,
     "metadata": {},
     "output_type": "execute_result"
    }
   ],
   "source": [
    "data.head()"
   ]
  },
  {
   "cell_type": "code",
   "execution_count": 126,
   "metadata": {},
   "outputs": [],
   "source": [
    "\"\"\"\n",
    "Splits data into train and test portions, default 80-20 split\n",
    "Training data is first train_size % of the data\n",
    "Test data is last test_size % of the data\n",
    "@params: data df to split \n",
    "         train_size float percentage of data to be training set\n",
    "         test_size float percentage of data to be test set\n",
    "@return: 2 dfs (train and test dfs)\n",
    "\"\"\"\n",
    "def train_test_split(data,train_size = .8, test_size = .2):\n",
    "    len_train_data = train_size * len(data)\n",
    "    len_test_size = test_size * len(data)\n",
    "    train_data = data[:int(len_train_data)]\n",
    "    test_data = data[len(data) - int(len_test_size):]\n",
    "    return train_data, test_data"
   ]
  },
  {
   "cell_type": "code",
   "execution_count": 138,
   "metadata": {},
   "outputs": [
    {
     "data": {
      "text/plain": [
       "True"
      ]
     },
     "execution_count": 138,
     "metadata": {},
     "output_type": "execute_result"
    }
   ],
   "source": [
    "'cmd.exe' in (temp_trans_df.index)"
   ]
  },
  {
   "cell_type": "code",
   "execution_count": 165,
   "metadata": {},
   "outputs": [],
   "source": [
    "#This predictor outputs the top x probable windows and checks the current test data window if it's in the top x.\n",
    "#if not then a check mark of incorrect is added \n",
    "#accuracy is outputted at the end\n",
    "def predictor1(train, test): #(self, X)\n",
    "    window_order = list(train.window.unique())\n",
    "    #Create transition matrix (store as df for easier indexing) ~ made on train data\n",
    "    trans_matrix = pd.DataFrame(transition_matrix(train))\n",
    "    trans_matrix.columns = window_order\n",
    "    trans_matrix.index = window_order\n",
    "     \n",
    "    num_correct = 0\n",
    "    \n",
    "    #Start from the very first window\n",
    "    for i in range(len(test.window) - 1): # -1 to not go past the last row\n",
    "        win = test.window.iloc[i]\n",
    "        next_win = test.window.iloc[i+1]\n",
    "        \n",
    "        #make sure win is an index of the matrix\n",
    "        if win in window_order:\n",
    "            win_index = window_order.index(win)\n",
    "            probs = trans_matrix.loc[win]\n",
    "            #setting it as top 5, will be change d depending on accuracy\n",
    "            top_prob_wins = probs.sort_values(ascending = False)[:5].index\n",
    "            #check if the next window is within the threshold\n",
    "            if next_win in top_prob_wins:\n",
    "                num_correct +=1\n",
    "        # if window is NOT in matrix, check to see if next window is part of the top 5 most common windows\n",
    "        # if so, then its a correct prediction\n",
    "        else:\n",
    "            top_windows = train.window.value_counts(ascending = False)[:5].index\n",
    "            if next_win in top_windows:\n",
    "                num_correct +=1\n",
    "                \n",
    "    return num_correct / (len(test.window) - 1) # -1 so that we dont guess the last window's next window(?)"
   ]
  },
  {
   "cell_type": "code",
   "execution_count": 190,
   "metadata": {},
   "outputs": [],
   "source": [
    "#This predictor ouputs a sequence of next windows. Accuracy is measured AFTER \n",
    "def predictor2(train,test): #(self, X)\n",
    "    window_order = list(train.window.unique())\n",
    "    #Create transition matrix (store as df for easier indexing)\n",
    "    trans_matrix = pd.DataFrame(transition_matrix(train))\n",
    "    trans_matrix.columns = window_order\n",
    "    trans_matrix.index = window_order\n",
    "    \n",
    "    starting_window = test.window.iloc[0]\n",
    "    next_windows = []\n",
    "    \n",
    "    #loop through len(data) - 1 since we already have the first window\n",
    "    for win in test.window[1:]:\n",
    "        #if win is an index of the matrix\n",
    "        if win in window_order:\n",
    "            win_index = window_order.index(win)\n",
    "            probs = trans_matrix.loc[win]\n",
    "            next_win = probs.idxmax()\n",
    "            next_windows.append(next_win)\n",
    "        #if win is not in the matrix's indeces,\n",
    "        #we weill predict next window to be the most common window of train data\n",
    "        else:\n",
    "            next_win = train.window.value_counts().idxmax()\n",
    "            next_windows.append(next_win)\n",
    "            \n",
    "    return next_windows"
   ]
  },
  {
   "cell_type": "code",
   "execution_count": 222,
   "metadata": {},
   "outputs": [],
   "source": [
    "#This predictor outputs the top x probable windows and \n",
    "#checks the current test data window if it's in the top x AND fits is_immersive emission matrix value\n",
    "#if not then a check mark of incorrect is added \n",
    "#accuracy is outputted at the end\n",
    "\n",
    "def predictor3(train, test): #(self, X)\n",
    "\n",
    "    window_order = list(train.window.unique())\n",
    "    #Create transition matrix (store as df for easier indexing)\n",
    "    trans_matrix = pd.DataFrame(transition_matrix(train) + emission_matrix(train))\n",
    "    trans_matrix.columns = window_order\n",
    "    trans_matrix.index = window_order + ['is_immersive'] #add immersive label for the row-wise index\n",
    "    \n",
    "    num_correct = 0\n",
    "    #Start from the very first window\n",
    "    for i in range(len(test.window) - 1): # -1 to not go past last row\n",
    "        #if win is an index of the matrix\n",
    "        win = test.window.iloc[i]\n",
    "        win_imm = test.is_immersive.iloc[i] #might be problems with nan values; havent checked it out yet\n",
    "        next_win = test.window.iloc[i+1]\n",
    "        next_win_imm = test.is_immersive.iloc[i]\n",
    "        \n",
    "        if win in window_order:\n",
    "            win_index = window_order.index(win)\n",
    "            probs = trans_matrix.loc[win]\n",
    "            #setting it as top 5, will be changed depending on accuracy\n",
    "            top_prob_wins = probs.sort_values(ascending = False)[:5].index\n",
    "            #check if the next window is within the threshold AND if they're immersive\n",
    "            #the immersive part is redundant since its just binary values that are always related to the its respectable window\n",
    "            if (next_win in top_prob_wins) and (next_win_imm == trans_matrix.loc['is_immersive', next_win]):\n",
    "                num_correct +=1\n",
    "        # if window is NOT in matrix, check to see if next window is part of the top 5 most common windows\n",
    "        # will also check if it is the is_immersive value of the most common value\n",
    "        #ex. if train data has more 0 is_immersive than 1, then we will make 0 the \"is correct\" condition\n",
    "        # if so, then its a correct prediction\n",
    "        else:\n",
    "            top_windows = train.window.value_counts(ascending = False)[:5].index\n",
    "            immersive_value = data.is_immersive.value_counts().idxmax()\n",
    "            if (next_win in top_windows) and (next_win_imm == immersive_value):\n",
    "                num_correct +=1\n",
    "                \n",
    "    return num_correct / (len(test.window) - 1)"
   ]
  },
  {
   "cell_type": "code",
   "execution_count": 176,
   "metadata": {},
   "outputs": [
    {
     "data": {
      "text/plain": [
       "0.0    2851\n",
       "1.0    1428\n",
       "Name: is_immersive, dtype: int64"
      ]
     },
     "execution_count": 176,
     "metadata": {},
     "output_type": "execute_result"
    }
   ],
   "source": [
    "data.is_immersive.value_counts()"
   ]
  },
  {
   "cell_type": "markdown",
   "metadata": {},
   "source": [
    "## Testing Accuracy"
   ]
  },
  {
   "cell_type": "markdown",
   "metadata": {},
   "source": [
    "### Splitting Data"
   ]
  },
  {
   "cell_type": "code",
   "execution_count": 177,
   "metadata": {},
   "outputs": [],
   "source": [
    "\"\"\"\n",
    "Splits data into train and test portions, default 80-20 split\n",
    "Training data is first train_size % of the data\n",
    "Test data is last test_size % of the data\n",
    "@params: data df to split \n",
    "         train_size float percentage of data to be training set\n",
    "         test_size float percentage of data to be test set\n",
    "@return: 2 dfs (train and test dfs)\n",
    "\"\"\"\n",
    "def train_test_split(data,train_size = .8, test_size = .2):\n",
    "    len_train_data = train_size * len(data)\n",
    "    len_test_size = test_size * len(data)\n",
    "    train_data = data[:int(len_train_data)]\n",
    "    test_data = data[len(data) - int(len_test_size):]\n",
    "    return train_data, test_data"
   ]
  },
  {
   "cell_type": "code",
   "execution_count": 178,
   "metadata": {},
   "outputs": [],
   "source": [
    "train_data, test_data = train_test_split(data, train_size=.8)"
   ]
  },
  {
   "cell_type": "code",
   "execution_count": 171,
   "metadata": {
    "scrolled": true
   },
   "outputs": [
    {
     "data": {
      "text/plain": [
       "True"
      ]
     },
     "execution_count": 171,
     "metadata": {},
     "output_type": "execute_result"
    }
   ],
   "source": [
    "len(train_data) + len(test_data) == len(data)"
   ]
  },
  {
   "cell_type": "markdown",
   "metadata": {},
   "source": [
    "### Predictor 1"
   ]
  },
  {
   "cell_type": "code",
   "execution_count": 172,
   "metadata": {},
   "outputs": [
    {
     "name": "stdout",
     "output_type": "stream",
     "text": [
      "Accuaracy for predictor1 is: 0.6711758584807492\n"
     ]
    }
   ],
   "source": [
    "print(\"Accuaracy for predictor1 is: \" + str(predictor1(train_data, test_data)))"
   ]
  },
  {
   "cell_type": "markdown",
   "metadata": {},
   "source": [
    "### Predictor 2"
   ]
  },
  {
   "cell_type": "code",
   "execution_count": 221,
   "metadata": {
    "scrolled": false
   },
   "outputs": [],
   "source": [
    "predicted_window_sequence = predictor2(train_data, test_data)"
   ]
  },
  {
   "cell_type": "code",
   "execution_count": 219,
   "metadata": {},
   "outputs": [
    {
     "data": {
      "text/plain": [
       "0.2796257796257796"
      ]
     },
     "execution_count": 219,
     "metadata": {},
     "output_type": "execute_result"
    }
   ],
   "source": [
    "num_correct = 0\n",
    "for i in range(len(test_data.window) - 1):\n",
    "    if test_data.window.iloc[i] == predicted_window_sequence[i]:\n",
    "        num_correct += 1\n",
    "num_correct / len(test_data)"
   ]
  },
  {
   "cell_type": "markdown",
   "metadata": {},
   "source": [
    "### Predictor 3"
   ]
  },
  {
   "cell_type": "code",
   "execution_count": 223,
   "metadata": {},
   "outputs": [
    {
     "name": "stderr",
     "output_type": "stream",
     "text": [
      "C:\\Users\\Andrew Chin\\Anaconda3\\lib\\site-packages\\ipykernel_launcher.py:5: RuntimeWarning: invalid value encountered in longlong_scalars\n",
      "  \"\"\"\n"
     ]
    },
    {
     "name": "stdout",
     "output_type": "stream",
     "text": [
      "Accuaracy for predictor3 is: 0.17273673257023933\n"
     ]
    }
   ],
   "source": [
    "print(\"Accuaracy for predictor3 is: \" + str(predictor3(train_data, test_data)))"
   ]
  },
  {
   "cell_type": "code",
   "execution_count": null,
   "metadata": {},
   "outputs": [],
   "source": []
  }
 ],
 "metadata": {
  "kernelspec": {
   "display_name": "Python 3",
   "language": "python",
   "name": "python3"
  },
  "language_info": {
   "codemirror_mode": {
    "name": "ipython",
    "version": 3
   },
   "file_extension": ".py",
   "mimetype": "text/x-python",
   "name": "python",
   "nbconvert_exporter": "python",
   "pygments_lexer": "ipython3",
   "version": "3.7.3"
  }
 },
 "nbformat": 4,
 "nbformat_minor": 2
}

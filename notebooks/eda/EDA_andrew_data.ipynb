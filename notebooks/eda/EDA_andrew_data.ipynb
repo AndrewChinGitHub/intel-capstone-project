{
 "cells": [
  {
   "cell_type": "code",
   "execution_count": 1,
   "metadata": {},
   "outputs": [],
   "source": [
    "import pandas as pd\n",
    "import seaborn as sns \n",
    "import matplotlib as plt\n",
    "import numpy as np"
   ]
  },
  {
   "cell_type": "markdown",
   "metadata": {},
   "source": [
    "## Import Data"
   ]
  },
  {
   "cell_type": "code",
   "execution_count": 2,
   "metadata": {},
   "outputs": [],
   "source": [
    "window_data = pd.read_csv(\"data/first_31dbs_counters_string_time_data.csv\")\n",
    "immersive_data = pd.read_csv(\"data/first_31dbs_isImmersive_data.csv\")"
   ]
  },
  {
   "cell_type": "code",
   "execution_count": 3,
   "metadata": {
    "scrolled": true
   },
   "outputs": [
    {
     "data": {
      "text/plain": [
       "(4815, 2)"
      ]
     },
     "execution_count": 3,
     "metadata": {},
     "output_type": "execute_result"
    }
   ],
   "source": [
    "window_data.shape"
   ]
  },
  {
   "cell_type": "code",
   "execution_count": 4,
   "metadata": {},
   "outputs": [
    {
     "data": {
      "text/html": [
       "<div>\n",
       "<style scoped>\n",
       "    .dataframe tbody tr th:only-of-type {\n",
       "        vertical-align: middle;\n",
       "    }\n",
       "\n",
       "    .dataframe tbody tr th {\n",
       "        vertical-align: top;\n",
       "    }\n",
       "\n",
       "    .dataframe thead th {\n",
       "        text-align: right;\n",
       "    }\n",
       "</style>\n",
       "<table border=\"1\" class=\"dataframe\">\n",
       "  <thead>\n",
       "    <tr style=\"text-align: right;\">\n",
       "      <th></th>\n",
       "      <th>time</th>\n",
       "      <th>window</th>\n",
       "    </tr>\n",
       "  </thead>\n",
       "  <tbody>\n",
       "    <tr>\n",
       "      <th>0</th>\n",
       "      <td>2021-11-12 18:17:47.026</td>\n",
       "      <td>cmd.exe</td>\n",
       "    </tr>\n",
       "    <tr>\n",
       "      <th>1</th>\n",
       "      <td>2021-11-12 18:17:54.031</td>\n",
       "      <td>SearchApp.exe</td>\n",
       "    </tr>\n",
       "    <tr>\n",
       "      <th>2</th>\n",
       "      <td>2021-11-12 18:18:16.046</td>\n",
       "      <td>cmd.exe</td>\n",
       "    </tr>\n",
       "    <tr>\n",
       "      <th>3</th>\n",
       "      <td>2021-11-12 18:18:21.052</td>\n",
       "      <td>SearchApp.exe</td>\n",
       "    </tr>\n",
       "    <tr>\n",
       "      <th>4</th>\n",
       "      <td>2021-11-12 18:18:50.083</td>\n",
       "      <td>notepad++.exe</td>\n",
       "    </tr>\n",
       "  </tbody>\n",
       "</table>\n",
       "</div>"
      ],
      "text/plain": [
       "                      time         window\n",
       "0  2021-11-12 18:17:47.026        cmd.exe\n",
       "1  2021-11-12 18:17:54.031  SearchApp.exe\n",
       "2  2021-11-12 18:18:16.046        cmd.exe\n",
       "3  2021-11-12 18:18:21.052  SearchApp.exe\n",
       "4  2021-11-12 18:18:50.083  notepad++.exe"
      ]
     },
     "execution_count": 4,
     "metadata": {},
     "output_type": "execute_result"
    }
   ],
   "source": [
    "window_data.head()"
   ]
  },
  {
   "cell_type": "code",
   "execution_count": 5,
   "metadata": {},
   "outputs": [
    {
     "data": {
      "text/html": [
       "<div>\n",
       "<style scoped>\n",
       "    .dataframe tbody tr th:only-of-type {\n",
       "        vertical-align: middle;\n",
       "    }\n",
       "\n",
       "    .dataframe tbody tr th {\n",
       "        vertical-align: top;\n",
       "    }\n",
       "\n",
       "    .dataframe thead th {\n",
       "        text-align: right;\n",
       "    }\n",
       "</style>\n",
       "<table border=\"1\" class=\"dataframe\">\n",
       "  <thead>\n",
       "    <tr style=\"text-align: right;\">\n",
       "      <th></th>\n",
       "      <th>time</th>\n",
       "      <th>is_immersive</th>\n",
       "    </tr>\n",
       "  </thead>\n",
       "  <tbody>\n",
       "    <tr>\n",
       "      <th>0</th>\n",
       "      <td>2021-11-12 18:17:47.026</td>\n",
       "      <td>0</td>\n",
       "    </tr>\n",
       "    <tr>\n",
       "      <th>1</th>\n",
       "      <td>2021-11-12 18:17:54.031</td>\n",
       "      <td>1</td>\n",
       "    </tr>\n",
       "    <tr>\n",
       "      <th>2</th>\n",
       "      <td>2021-11-12 18:18:16.046</td>\n",
       "      <td>0</td>\n",
       "    </tr>\n",
       "    <tr>\n",
       "      <th>3</th>\n",
       "      <td>2021-11-12 18:18:21.052</td>\n",
       "      <td>1</td>\n",
       "    </tr>\n",
       "    <tr>\n",
       "      <th>4</th>\n",
       "      <td>2021-11-12 18:18:50.083</td>\n",
       "      <td>0</td>\n",
       "    </tr>\n",
       "  </tbody>\n",
       "</table>\n",
       "</div>"
      ],
      "text/plain": [
       "                      time  is_immersive\n",
       "0  2021-11-12 18:17:47.026             0\n",
       "1  2021-11-12 18:17:54.031             1\n",
       "2  2021-11-12 18:18:16.046             0\n",
       "3  2021-11-12 18:18:21.052             1\n",
       "4  2021-11-12 18:18:50.083             0"
      ]
     },
     "execution_count": 5,
     "metadata": {},
     "output_type": "execute_result"
    }
   ],
   "source": [
    "immersive_data.head()"
   ]
  },
  {
   "cell_type": "code",
   "execution_count": 6,
   "metadata": {
    "scrolled": true
   },
   "outputs": [],
   "source": [
    "#joined tables on the time according to rows in the window data\n",
    "data = window_data.merge(immersive_data, on = \"time\", how = 'left')"
   ]
  },
  {
   "cell_type": "markdown",
   "metadata": {},
   "source": [
    "### NaN Data"
   ]
  },
  {
   "cell_type": "code",
   "execution_count": 7,
   "metadata": {},
   "outputs": [
    {
     "data": {
      "text/plain": [
       " 0.000000e+00    2851\n",
       " 1.000000e+00    1428\n",
       " NaN              531\n",
       "-9.223372e+18       5\n",
       "Name: is_immersive, dtype: int64"
      ]
     },
     "execution_count": 7,
     "metadata": {},
     "output_type": "execute_result"
    }
   ],
   "source": [
    "#There are clearly Nan values and 5 occurences of a very strange number\n",
    "data.is_immersive.value_counts(dropna = False)"
   ]
  },
  {
   "cell_type": "code",
   "execution_count": 8,
   "metadata": {
    "scrolled": true
   },
   "outputs": [
    {
     "name": "stderr",
     "output_type": "stream",
     "text": [
      "C:\\Users\\Andrew Chin\\Anaconda3\\lib\\site-packages\\ipykernel_launcher.py:2: FutureWarning: Series.nonzero() is deprecated and will be removed in a future version.Use Series.to_numpy().nonzero() instead\n",
      "  \n"
     ]
    },
    {
     "data": {
      "text/html": [
       "<div>\n",
       "<style scoped>\n",
       "    .dataframe tbody tr th:only-of-type {\n",
       "        vertical-align: middle;\n",
       "    }\n",
       "\n",
       "    .dataframe tbody tr th {\n",
       "        vertical-align: top;\n",
       "    }\n",
       "\n",
       "    .dataframe thead th {\n",
       "        text-align: right;\n",
       "    }\n",
       "</style>\n",
       "<table border=\"1\" class=\"dataframe\">\n",
       "  <thead>\n",
       "    <tr style=\"text-align: right;\">\n",
       "      <th></th>\n",
       "      <th>time</th>\n",
       "      <th>window</th>\n",
       "      <th>is_immersive</th>\n",
       "    </tr>\n",
       "  </thead>\n",
       "  <tbody>\n",
       "    <tr>\n",
       "      <th>99</th>\n",
       "      <td>2021-11-12 19:06:33.601</td>\n",
       "      <td>EXCEL.EXE</td>\n",
       "      <td>NaN</td>\n",
       "    </tr>\n",
       "    <tr>\n",
       "      <th>238</th>\n",
       "      <td>2021-11-14 23:34:22.110</td>\n",
       "      <td>chrome.exe</td>\n",
       "      <td>NaN</td>\n",
       "    </tr>\n",
       "    <tr>\n",
       "      <th>320</th>\n",
       "      <td>2021-11-15 07:44:09.661</td>\n",
       "      <td>WINWORD.EXE</td>\n",
       "      <td>NaN</td>\n",
       "    </tr>\n",
       "    <tr>\n",
       "      <th>2074</th>\n",
       "      <td>2021-11-26 04:22:00.528</td>\n",
       "      <td>WINWORD.EXE</td>\n",
       "      <td>NaN</td>\n",
       "    </tr>\n",
       "    <tr>\n",
       "      <th>2108</th>\n",
       "      <td>2021-11-28 19:51:42.041</td>\n",
       "      <td>cmd.exe</td>\n",
       "      <td>NaN</td>\n",
       "    </tr>\n",
       "  </tbody>\n",
       "</table>\n",
       "</div>"
      ],
      "text/plain": [
       "                         time       window  is_immersive\n",
       "99    2021-11-12 19:06:33.601    EXCEL.EXE           NaN\n",
       "238   2021-11-14 23:34:22.110   chrome.exe           NaN\n",
       "320   2021-11-15 07:44:09.661  WINWORD.EXE           NaN\n",
       "2074  2021-11-26 04:22:00.528  WINWORD.EXE           NaN\n",
       "2108  2021-11-28 19:51:42.041      cmd.exe           NaN"
      ]
     },
     "execution_count": 8,
     "metadata": {},
     "output_type": "execute_result"
    }
   ],
   "source": [
    "# 531 rows of NaN values\n",
    "nan_indeces = pd.isnull(data).any(1).nonzero()[0]\n",
    "nan_data = data.loc[nan_indeces]\n",
    "nan_data.head()"
   ]
  },
  {
   "cell_type": "markdown",
   "metadata": {},
   "source": [
    "## Data Cleaning"
   ]
  },
  {
   "cell_type": "code",
   "execution_count": 9,
   "metadata": {},
   "outputs": [],
   "source": [
    "#Change first time col to datetime obj\n",
    "data['time'] = pd.to_datetime(data['time'])"
   ]
  },
  {
   "cell_type": "code",
   "execution_count": 10,
   "metadata": {
    "scrolled": true
   },
   "outputs": [
    {
     "data": {
      "text/html": [
       "<div>\n",
       "<style scoped>\n",
       "    .dataframe tbody tr th:only-of-type {\n",
       "        vertical-align: middle;\n",
       "    }\n",
       "\n",
       "    .dataframe tbody tr th {\n",
       "        vertical-align: top;\n",
       "    }\n",
       "\n",
       "    .dataframe thead th {\n",
       "        text-align: right;\n",
       "    }\n",
       "</style>\n",
       "<table border=\"1\" class=\"dataframe\">\n",
       "  <thead>\n",
       "    <tr style=\"text-align: right;\">\n",
       "      <th></th>\n",
       "      <th>time</th>\n",
       "      <th>window</th>\n",
       "      <th>is_immersive</th>\n",
       "      <th>WEEKDAY</th>\n",
       "    </tr>\n",
       "  </thead>\n",
       "  <tbody>\n",
       "    <tr>\n",
       "      <th>0</th>\n",
       "      <td>2021-11-12 18:17:47.026</td>\n",
       "      <td>cmd.exe</td>\n",
       "      <td>0.0</td>\n",
       "      <td>4</td>\n",
       "    </tr>\n",
       "  </tbody>\n",
       "</table>\n",
       "</div>"
      ],
      "text/plain": [
       "                     time   window  is_immersive  WEEKDAY\n",
       "0 2021-11-12 18:17:47.026  cmd.exe           0.0        4"
      ]
     },
     "execution_count": 10,
     "metadata": {},
     "output_type": "execute_result"
    }
   ],
   "source": [
    "#Add weekdays to df\n",
    "weekdays = ['Mon','Teu','Wed','Thur','Fri','Sat','Sun']\n",
    "def get_weekday(date):\n",
    "    return date.weekday()\n",
    "\n",
    "data['WEEKDAY'] = data['time'].apply(get_weekday)\n",
    "data.head(1)"
   ]
  },
  {
   "cell_type": "markdown",
   "metadata": {},
   "source": [
    "## EDA"
   ]
  },
  {
   "cell_type": "code",
   "execution_count": 11,
   "metadata": {},
   "outputs": [
    {
     "data": {
      "text/plain": [
       "Text(0.5, 1.0, 'Number of Window Changes Per Day of the Week')"
      ]
     },
     "execution_count": 11,
     "metadata": {},
     "output_type": "execute_result"
    },
    {
     "data": {
      "image/png": "[encoded data removed]",
      "text/plain": [
       "<Figure size 432x288 with 1 Axes>"
      ]
     },
     "metadata": {
      "needs_background": "light"
     },
     "output_type": "display_data"
    }
   ],
   "source": [
    "num_apps_opened_per_weekday = data.groupby('WEEKDAY')['window'].count()\n",
    "g = sns.barplot(y = num_apps_opened_per_weekday.values, x = num_apps_opened_per_weekday.index)\n",
    "g.set_xticklabels(['Mon','Teu','Wed','Thur','Fri','Sat','Sun'])\n",
    "g.set_ylabel('Number of Window Changes')\n",
    "g.set_xlabel('Day of the Week')\n",
    "g.set_title('Number of Window Changes Per Day of the Week')"
   ]
  },
  {
   "cell_type": "code",
   "execution_count": 12,
   "metadata": {},
   "outputs": [
    {
     "data": {
      "text/plain": [
       "window\n",
       "chrome.exe       1487\n",
       "explorer.exe      831\n",
       "Teams.exe         301\n",
       "Discord.exe       285\n",
       "devenv.exe        252\n",
       "Zoom.exe          207\n",
       "LockApp.exe       188\n",
       "HxOutlook.exe     180\n",
       "msedge.exe        154\n",
       "WINWORD.EXE       150\n",
       "Name: WEEKDAY, dtype: int64"
      ]
     },
     "execution_count": 12,
     "metadata": {},
     "output_type": "execute_result"
    }
   ],
   "source": [
    "#Get unique window counts\n",
    "num_changes_per_unique_windows = data.groupby('window')['WEEKDAY'].count().sort_values(ascending = False)\n",
    "top_10_num_unique_windows = num_changes_per_unique_windows[:10]\n",
    "top_5_num_unique_windows = num_changes_per_unique_windows[:5]\n",
    "\n",
    "top_10_num_unique_windows"
   ]
  },
  {
   "cell_type": "code",
   "execution_count": 13,
   "metadata": {},
   "outputs": [
    {
     "data": {
      "text/plain": [
       "Text(0.5, 1.0, 'Number of Window Changes Per Window')"
      ]
     },
     "execution_count": 13,
     "metadata": {},
     "output_type": "execute_result"
    },
    {
     "data": {
      "image/png": "[encoded data removed]",
      "text/plain": [
       "<Figure size 432x288 with 1 Axes>"
      ]
     },
     "metadata": {
      "needs_background": "light"
     },
     "output_type": "display_data"
    }
   ],
   "source": [
    "#Top 5 apps that have the most amount of \"switch to occurences\"\n",
    "g = sns.barplot(y = top_5_num_unique_windows.values, x = top_5_num_unique_windows.index)\n",
    "# g.set_xticklabels(['Mon','Teu','Wed','Thur','Fri','Sun'])\n",
    "g.set_ylabel('Number of Window Changes')\n",
    "g.set_xlabel('Window')\n",
    "g.set_title('Number of Window Changes Per Window')"
   ]
  },
  {
   "cell_type": "code",
   "execution_count": 14,
   "metadata": {},
   "outputs": [
    {
     "name": "stderr",
     "output_type": "stream",
     "text": [
      "C:\\Users\\Andrew Chin\\Anaconda3\\lib\\site-packages\\ipykernel_launcher.py:3: FutureWarning: Passing integers to fillna is deprecated, will raise a TypeError in a future version.  To retain the old behavior, pass pd.Timedelta(seconds=n) instead.\n",
      "  This is separate from the ipykernel package so we can avoid doing imports until\n"
     ]
    }
   ],
   "source": [
    "#Extract time spent within each app\n",
    "data['tvalue'] = data.time\n",
    "data['delta'] = (data['tvalue']- data['tvalue'].shift()).fillna(0)\n",
    "\n",
    "#convert days spent on window to minutes spent on window\n",
    "def convert_minutes(time):\n",
    "    return round(float((time.total_seconds()/60)), 2)\n",
    "\n",
    "data['MINS_SPENT'] = data.delta.apply(convert_minutes)\n",
    "new_mins = list(data.MINS_SPENT)[1:]\n",
    "new_mins.append(0)\n",
    "data['MINS_SPENT'] = new_mins\n",
    "\n",
    "data = data.drop(['tvalue','delta'],axis = 1)"
   ]
  },
  {
   "cell_type": "code",
   "execution_count": 15,
   "metadata": {},
   "outputs": [
    {
     "data": {
      "text/html": [
       "<div>\n",
       "<style scoped>\n",
       "    .dataframe tbody tr th:only-of-type {\n",
       "        vertical-align: middle;\n",
       "    }\n",
       "\n",
       "    .dataframe tbody tr th {\n",
       "        vertical-align: top;\n",
       "    }\n",
       "\n",
       "    .dataframe thead th {\n",
       "        text-align: right;\n",
       "    }\n",
       "</style>\n",
       "<table border=\"1\" class=\"dataframe\">\n",
       "  <thead>\n",
       "    <tr style=\"text-align: right;\">\n",
       "      <th></th>\n",
       "      <th>time</th>\n",
       "      <th>window</th>\n",
       "      <th>is_immersive</th>\n",
       "      <th>WEEKDAY</th>\n",
       "      <th>MINS_SPENT</th>\n",
       "    </tr>\n",
       "  </thead>\n",
       "  <tbody>\n",
       "    <tr>\n",
       "      <th>0</th>\n",
       "      <td>2021-11-12 18:17:47.026</td>\n",
       "      <td>cmd.exe</td>\n",
       "      <td>0.0</td>\n",
       "      <td>4</td>\n",
       "      <td>0.12</td>\n",
       "    </tr>\n",
       "  </tbody>\n",
       "</table>\n",
       "</div>"
      ],
      "text/plain": [
       "                     time   window  is_immersive  WEEKDAY  MINS_SPENT\n",
       "0 2021-11-12 18:17:47.026  cmd.exe           0.0        4        0.12"
      ]
     },
     "execution_count": 15,
     "metadata": {},
     "output_type": "execute_result"
    }
   ],
   "source": [
    "data.head(1)"
   ]
  },
  {
   "cell_type": "markdown",
   "metadata": {},
   "source": [
    "#### Since Chrome.exe is the most visited app, let's dive deeper into it"
   ]
  },
  {
   "cell_type": "code",
   "execution_count": 16,
   "metadata": {},
   "outputs": [],
   "source": [
    "#Get dataframe of only chrome.exe rows\n",
    "chrome_df = data[data.window == 'chrome.exe']"
   ]
  },
  {
   "cell_type": "code",
   "execution_count": 17,
   "metadata": {},
   "outputs": [],
   "source": [
    "copy = chrome_df.copy()\n",
    "\n",
    "#new chrome_df with no outliers (time spent in sleep mode)\n",
    "copy_no_outliers = copy[copy['MINS_SPENT'] <= 400]\n",
    "\n",
    "#get total mins spent on chrome per weekday without the outliers\n",
    "mins_per_weekday_chrome = copy_no_outliers.groupby('WEEKDAY')['MINS_SPENT'].sum()"
   ]
  },
  {
   "cell_type": "code",
   "execution_count": 18,
   "metadata": {
    "scrolled": true
   },
   "outputs": [
    {
     "data": {
      "text/html": [
       "<div>\n",
       "<style scoped>\n",
       "    .dataframe tbody tr th:only-of-type {\n",
       "        vertical-align: middle;\n",
       "    }\n",
       "\n",
       "    .dataframe tbody tr th {\n",
       "        vertical-align: top;\n",
       "    }\n",
       "\n",
       "    .dataframe thead th {\n",
       "        text-align: right;\n",
       "    }\n",
       "</style>\n",
       "<table border=\"1\" class=\"dataframe\">\n",
       "  <thead>\n",
       "    <tr style=\"text-align: right;\">\n",
       "      <th></th>\n",
       "      <th>time</th>\n",
       "      <th>window</th>\n",
       "      <th>is_immersive</th>\n",
       "      <th>WEEKDAY</th>\n",
       "      <th>MINS_SPENT</th>\n",
       "    </tr>\n",
       "  </thead>\n",
       "  <tbody>\n",
       "    <tr>\n",
       "      <th>3626</th>\n",
       "      <td>2021-12-15 18:35:11.551</td>\n",
       "      <td>chrome.exe</td>\n",
       "      <td>0.0</td>\n",
       "      <td>2</td>\n",
       "      <td>1639.77</td>\n",
       "    </tr>\n",
       "    <tr>\n",
       "      <th>2044</th>\n",
       "      <td>2021-11-25 06:15:21.702</td>\n",
       "      <td>chrome.exe</td>\n",
       "      <td>0.0</td>\n",
       "      <td>3</td>\n",
       "      <td>1258.17</td>\n",
       "    </tr>\n",
       "    <tr>\n",
       "      <th>2220</th>\n",
       "      <td>2021-11-29 06:35:43.407</td>\n",
       "      <td>chrome.exe</td>\n",
       "      <td>NaN</td>\n",
       "      <td>0</td>\n",
       "      <td>898.94</td>\n",
       "    </tr>\n",
       "    <tr>\n",
       "      <th>2240</th>\n",
       "      <td>2021-11-30 04:59:49.805</td>\n",
       "      <td>chrome.exe</td>\n",
       "      <td>NaN</td>\n",
       "      <td>1</td>\n",
       "      <td>889.52</td>\n",
       "    </tr>\n",
       "    <tr>\n",
       "      <th>1688</th>\n",
       "      <td>2021-11-23 08:42:37.939</td>\n",
       "      <td>chrome.exe</td>\n",
       "      <td>0.0</td>\n",
       "      <td>1</td>\n",
       "      <td>747.70</td>\n",
       "    </tr>\n",
       "  </tbody>\n",
       "</table>\n",
       "</div>"
      ],
      "text/plain": [
       "                        time      window  is_immersive  WEEKDAY  MINS_SPENT\n",
       "3626 2021-12-15 18:35:11.551  chrome.exe           0.0        2     1639.77\n",
       "2044 2021-11-25 06:15:21.702  chrome.exe           0.0        3     1258.17\n",
       "2220 2021-11-29 06:35:43.407  chrome.exe           NaN        0      898.94\n",
       "2240 2021-11-30 04:59:49.805  chrome.exe           NaN        1      889.52\n",
       "1688 2021-11-23 08:42:37.939  chrome.exe           0.0        1      747.70"
      ]
     },
     "execution_count": 18,
     "metadata": {},
     "output_type": "execute_result"
    }
   ],
   "source": [
    "chrome_df.sort_values(by = 'MINS_SPENT', ascending = False).head()"
   ]
  },
  {
   "cell_type": "code",
   "execution_count": 19,
   "metadata": {},
   "outputs": [
    {
     "data": {
      "text/html": [
       "<div>\n",
       "<style scoped>\n",
       "    .dataframe tbody tr th:only-of-type {\n",
       "        vertical-align: middle;\n",
       "    }\n",
       "\n",
       "    .dataframe tbody tr th {\n",
       "        vertical-align: top;\n",
       "    }\n",
       "\n",
       "    .dataframe thead th {\n",
       "        text-align: right;\n",
       "    }\n",
       "</style>\n",
       "<table border=\"1\" class=\"dataframe\">\n",
       "  <thead>\n",
       "    <tr style=\"text-align: right;\">\n",
       "      <th></th>\n",
       "      <th>time</th>\n",
       "      <th>window</th>\n",
       "      <th>is_immersive</th>\n",
       "      <th>WEEKDAY</th>\n",
       "      <th>MINS_SPENT</th>\n",
       "    </tr>\n",
       "  </thead>\n",
       "  <tbody>\n",
       "    <tr>\n",
       "      <th>222</th>\n",
       "      <td>2021-11-13 02:06:13.157</td>\n",
       "      <td>chrome.exe</td>\n",
       "      <td>0.0</td>\n",
       "      <td>5</td>\n",
       "      <td>357.11</td>\n",
       "    </tr>\n",
       "    <tr>\n",
       "      <th>3839</th>\n",
       "      <td>2021-12-22 22:45:51.835</td>\n",
       "      <td>chrome.exe</td>\n",
       "      <td>0.0</td>\n",
       "      <td>2</td>\n",
       "      <td>325.89</td>\n",
       "    </tr>\n",
       "    <tr>\n",
       "      <th>1341</th>\n",
       "      <td>2021-11-19 02:13:57.068</td>\n",
       "      <td>chrome.exe</td>\n",
       "      <td>0.0</td>\n",
       "      <td>4</td>\n",
       "      <td>314.68</td>\n",
       "    </tr>\n",
       "    <tr>\n",
       "      <th>157</th>\n",
       "      <td>2021-11-12 19:53:35.950</td>\n",
       "      <td>chrome.exe</td>\n",
       "      <td>0.0</td>\n",
       "      <td>4</td>\n",
       "      <td>287.90</td>\n",
       "    </tr>\n",
       "    <tr>\n",
       "      <th>3872</th>\n",
       "      <td>2021-12-23 22:11:27.107</td>\n",
       "      <td>chrome.exe</td>\n",
       "      <td>NaN</td>\n",
       "      <td>3</td>\n",
       "      <td>236.59</td>\n",
       "    </tr>\n",
       "  </tbody>\n",
       "</table>\n",
       "</div>"
      ],
      "text/plain": [
       "                        time      window  is_immersive  WEEKDAY  MINS_SPENT\n",
       "222  2021-11-13 02:06:13.157  chrome.exe           0.0        5      357.11\n",
       "3839 2021-12-22 22:45:51.835  chrome.exe           0.0        2      325.89\n",
       "1341 2021-11-19 02:13:57.068  chrome.exe           0.0        4      314.68\n",
       "157  2021-11-12 19:53:35.950  chrome.exe           0.0        4      287.90\n",
       "3872 2021-12-23 22:11:27.107  chrome.exe           NaN        3      236.59"
      ]
     },
     "execution_count": 19,
     "metadata": {},
     "output_type": "execute_result"
    }
   ],
   "source": [
    "copy_no_outliers.sort_values(by = 'MINS_SPENT', ascending = False).head()"
   ]
  },
  {
   "cell_type": "code",
   "execution_count": 20,
   "metadata": {},
   "outputs": [],
   "source": [
    "mins_per_weekday_dict = dict(mins_per_weekday_chrome)\n",
    "\n",
    "mins = []\n",
    "for i in range(len(chrome_df)):\n",
    "    mins.append(mins_per_weekday_dict[chrome_df.iloc[i].WEEKDAY])"
   ]
  },
  {
   "cell_type": "code",
   "execution_count": 21,
   "metadata": {},
   "outputs": [
    {
     "name": "stderr",
     "output_type": "stream",
     "text": [
      "C:\\Users\\Andrew Chin\\Anaconda3\\lib\\site-packages\\pandas\\plotting\\_converter.py:129: FutureWarning: Using an implicitly registered datetime converter for a matplotlib plotting method. The converter was registered by pandas on import. Future versions of pandas will require you to explicitly register matplotlib converters.\n",
      "\n",
      "To register the converters:\n",
      "\t>>> from pandas.plotting import register_matplotlib_converters\n",
      "\t>>> register_matplotlib_converters()\n",
      "  warnings.warn(msg, FutureWarning)\n"
     ]
    },
    {
     "data": {
      "text/plain": [
       "Text(0, 0.5, 'Minutes Spent on Chrome')"
      ]
     },
     "execution_count": 21,
     "metadata": {},
     "output_type": "execute_result"
    },
    {
     "data": {
      "image/png": "[encoded data removed]",
      "text/plain": [
       "<Figure size 842.4x595.44 with 1 Axes>"
      ]
     },
     "metadata": {},
     "output_type": "display_data"
    }
   ],
   "source": [
    "sns.set(rc={'figure.figsize':(11.7,8.27)})\n",
    "\n",
    "plot1 = sns.lineplot(x = 'time', y = 'MINS_SPENT', data = copy_no_outliers)\n",
    "plot1.set_title('Minutes Spent on Chrome Over Time')\n",
    "plot1.set_xlabel('Date')\n",
    "plot1.set_ylabel('Minutes Spent on Chrome')"
   ]
  },
  {
   "cell_type": "markdown",
   "metadata": {},
   "source": [
    "### Windows with the most time spent on them"
   ]
  },
  {
   "cell_type": "code",
   "execution_count": 22,
   "metadata": {},
   "outputs": [],
   "source": [
    "data_no_outliers = data[data['MINS_SPENT'] <= 400]\n",
    "sum_mins_per_window = data_no_outliers.groupby('window')['MINS_SPENT'].sum()\n",
    "mins_per_window = sum_mins_per_window.sort_values(ascending = False)[:5]"
   ]
  },
  {
   "cell_type": "code",
   "execution_count": 23,
   "metadata": {},
   "outputs": [
    {
     "data": {
      "text/plain": [
       "Text(0.5, 1.0, 'Top 5 Windows With Greatest Number of Mins Spent')"
      ]
     },
     "execution_count": 23,
     "metadata": {},
     "output_type": "execute_result"
    },
    {
     "data": {
      "image/png": "[encoded data removed]",
      "text/plain": [
       "<Figure size 842.4x595.44 with 1 Axes>"
      ]
     },
     "metadata": {},
     "output_type": "display_data"
    }
   ],
   "source": [
    "g = sns.barplot(x = mins_per_window.index, y = mins_per_window.values)\n",
    "g.set_ylabel('Minutes Spent on Window')\n",
    "g.set_xlabel('Window')\n",
    "g.set_title('Top 5 Windows With Greatest Number of Mins Spent')"
   ]
  },
  {
   "cell_type": "code",
   "execution_count": 24,
   "metadata": {
    "scrolled": false
   },
   "outputs": [
    {
     "data": {
      "text/plain": [
       "Text(0.5, 1.0, 'Mins Per Weekday Spent on Chrome Over a 5 Day Span')"
      ]
     },
     "execution_count": 24,
     "metadata": {},
     "output_type": "execute_result"
    },
    {
     "data": {
      "image/png": "[encoded data removed]",
      "text/plain": [
       "<Figure size 842.4x595.44 with 1 Axes>"
      ]
     },
     "metadata": {},
     "output_type": "display_data"
    }
   ],
   "source": [
    "g = sns.barplot(x = mins_per_weekday_chrome.index, y = mins_per_weekday_chrome.values)\n",
    "g.set_xticklabels(['Mon','Teu','Wed','Thur','Fri','Sat','Sun'])\n",
    "g.set_ylabel('Minutes Spent on Chrome')\n",
    "g.set_xlabel('Day of the Week')\n",
    "g.set_title('Mins Per Weekday Spent on Chrome Over a 5 Day Span')"
   ]
  },
  {
   "cell_type": "markdown",
   "metadata": {},
   "source": [
    "### Immersive Data"
   ]
  },
  {
   "cell_type": "markdown",
   "metadata": {},
   "source": [
    "We know that chrome is not an app you can find in the Window's store. These also pertain to Windows specific apps such as ethernet explorer or even apps found on Windows OS such as the shell. So lets dive into the apps that CAN be found in the Window's store, aka the apps that are immersive!"
   ]
  },
  {
   "cell_type": "code",
   "execution_count": 25,
   "metadata": {},
   "outputs": [
    {
     "data": {
      "text/plain": [
       "explorer.exe                      745\n",
       "HxOutlook.exe                     168\n",
       "LockApp.exe                       163\n",
       "SearchApp.exe                     116\n",
       "ApplicationFrameHost.exe           58\n",
       "ShellExperienceHost.exe            56\n",
       "SystemSettings.exe                 33\n",
       "Microsoft.AAD.BrokerPlugin.exe     23\n",
       "ScreenClippingHost.exe             21\n",
       "StartMenuExperienceHost.exe        19\n",
       "PickerHost.exe                      9\n",
       "SystemSettingsAdminFlows.exe        5\n",
       "WindowsCamera.exe                   4\n",
       "Taskmgr.exe                         4\n",
       "OpenWith.exe                        2\n",
       "HxCalendarAppImm.exe                1\n",
       "Microsoft.Photos.exe                1\n",
       "Name: window, dtype: int64"
      ]
     },
     "execution_count": 25,
     "metadata": {},
     "output_type": "execute_result"
    }
   ],
   "source": [
    "# A look at which apps that are found in the window's store\n",
    "immersive = data[data.is_immersive == 1]\n",
    "immersive.window.value_counts()"
   ]
  },
  {
   "cell_type": "code",
   "execution_count": 26,
   "metadata": {},
   "outputs": [],
   "source": [
    "#remove idle times \n",
    "immersive_no_outliers = immersive[immersive.MINS_SPENT <= 400]"
   ]
  },
  {
   "cell_type": "code",
   "execution_count": 27,
   "metadata": {
    "scrolled": true
   },
   "outputs": [
    {
     "data": {
      "text/plain": [
       "window\n",
       "explorer.exe                      1178.66\n",
       "HxOutlook.exe                      561.11\n",
       "StartMenuExperienceHost.exe        235.68\n",
       "LockApp.exe                        209.56\n",
       "ApplicationFrameHost.exe            81.05\n",
       "ShellExperienceHost.exe             20.87\n",
       "SystemSettings.exe                  10.94\n",
       "Microsoft.AAD.BrokerPlugin.exe       8.71\n",
       "SearchApp.exe                        8.67\n",
       "WindowsCamera.exe                    3.56\n",
       "ScreenClippingHost.exe               2.28\n",
       "PickerHost.exe                       1.52\n",
       "Taskmgr.exe                          0.54\n",
       "SystemSettingsAdminFlows.exe         0.11\n",
       "OpenWith.exe                         0.08\n",
       "HxCalendarAppImm.exe                 0.03\n",
       "Microsoft.Photos.exe                 0.02\n",
       "Name: MINS_SPENT, dtype: float64"
      ]
     },
     "execution_count": 27,
     "metadata": {},
     "output_type": "execute_result"
    }
   ],
   "source": [
    "immersive_no_outliers.groupby('window')['MINS_SPENT'].sum().sort_values(ascending = False)"
   ]
  },
  {
   "cell_type": "markdown",
   "metadata": {},
   "source": [
    "We can see that explorer exe takes up the bulk of time spent on Windows apps. This is expected since every the windows file explorer is included within explorer.exe. Additionally, time I click on chrome or spotify or something on my task bar, it logs explorer.exe. "
   ]
  },
  {
   "cell_type": "markdown",
   "metadata": {},
   "source": [
    "## Probabilities"
   ]
  },
  {
   "cell_type": "code",
   "execution_count": 28,
   "metadata": {},
   "outputs": [],
   "source": [
    "def conditional_probs(df, col_name, val_name):\n",
    "    val_count = df[col_name].value_counts()[val_name]\n",
    "    other_val_count = df[col_name].value_counts().sum() - val_count\n",
    "    return val_count / other_val_count"
   ]
  },
  {
   "cell_type": "code",
   "execution_count": 29,
   "metadata": {},
   "outputs": [
    {
     "data": {
      "text/html": [
       "<div>\n",
       "<style scoped>\n",
       "    .dataframe tbody tr th:only-of-type {\n",
       "        vertical-align: middle;\n",
       "    }\n",
       "\n",
       "    .dataframe tbody tr th {\n",
       "        vertical-align: top;\n",
       "    }\n",
       "\n",
       "    .dataframe thead th {\n",
       "        text-align: right;\n",
       "    }\n",
       "</style>\n",
       "<table border=\"1\" class=\"dataframe\">\n",
       "  <thead>\n",
       "    <tr style=\"text-align: right;\">\n",
       "      <th></th>\n",
       "      <th>conditional_prob</th>\n",
       "    </tr>\n",
       "  </thead>\n",
       "  <tbody>\n",
       "    <tr>\n",
       "      <th>chrome.exe</th>\n",
       "      <td>0.446815</td>\n",
       "    </tr>\n",
       "    <tr>\n",
       "      <th>explorer.exe</th>\n",
       "      <td>0.208584</td>\n",
       "    </tr>\n",
       "    <tr>\n",
       "      <th>Teams.exe</th>\n",
       "      <td>0.066681</td>\n",
       "    </tr>\n",
       "    <tr>\n",
       "      <th>Discord.exe</th>\n",
       "      <td>0.062914</td>\n",
       "    </tr>\n",
       "    <tr>\n",
       "      <th>devenv.exe</th>\n",
       "      <td>0.055227</td>\n",
       "    </tr>\n",
       "  </tbody>\n",
       "</table>\n",
       "</div>"
      ],
      "text/plain": [
       "              conditional_prob\n",
       "chrome.exe            0.446815\n",
       "explorer.exe          0.208584\n",
       "Teams.exe             0.066681\n",
       "Discord.exe           0.062914\n",
       "devenv.exe            0.055227"
      ]
     },
     "execution_count": 29,
     "metadata": {},
     "output_type": "execute_result"
    }
   ],
   "source": [
    "conditional_probs_dict = {}\n",
    "\n",
    "for val in data['window'].value_counts().index: #for each window in data\n",
    "    conditional_probs_dict[val] = conditional_probs(data, 'window', val)\n",
    "conditional_probs_df = pd.DataFrame.from_dict(conditional_probs_dict, orient='index')\n",
    "conditional_probs_df.columns = ['conditional_prob']\n",
    "conditional_probs_df.sort_values('conditional_prob', ascending=False)\n",
    "conditional_probs_df.head()"
   ]
  },
  {
   "cell_type": "code",
   "execution_count": 30,
   "metadata": {},
   "outputs": [
    {
     "data": {
      "text/html": [
       "<div>\n",
       "<style scoped>\n",
       "    .dataframe tbody tr th:only-of-type {\n",
       "        vertical-align: middle;\n",
       "    }\n",
       "\n",
       "    .dataframe tbody tr th {\n",
       "        vertical-align: top;\n",
       "    }\n",
       "\n",
       "    .dataframe thead th {\n",
       "        text-align: right;\n",
       "    }\n",
       "</style>\n",
       "<table border=\"1\" class=\"dataframe\">\n",
       "  <thead>\n",
       "    <tr style=\"text-align: right;\">\n",
       "      <th></th>\n",
       "      <th>time</th>\n",
       "      <th>window</th>\n",
       "      <th>is_immersive</th>\n",
       "      <th>WEEKDAY</th>\n",
       "      <th>MINS_SPENT</th>\n",
       "    </tr>\n",
       "  </thead>\n",
       "  <tbody>\n",
       "    <tr>\n",
       "      <th>0</th>\n",
       "      <td>2021-11-12 18:17:47.026</td>\n",
       "      <td>cmd.exe</td>\n",
       "      <td>0.0</td>\n",
       "      <td>4</td>\n",
       "      <td>0.12</td>\n",
       "    </tr>\n",
       "    <tr>\n",
       "      <th>1</th>\n",
       "      <td>2021-11-12 18:17:54.031</td>\n",
       "      <td>SearchApp.exe</td>\n",
       "      <td>1.0</td>\n",
       "      <td>4</td>\n",
       "      <td>0.37</td>\n",
       "    </tr>\n",
       "    <tr>\n",
       "      <th>2</th>\n",
       "      <td>2021-11-12 18:18:16.046</td>\n",
       "      <td>cmd.exe</td>\n",
       "      <td>0.0</td>\n",
       "      <td>4</td>\n",
       "      <td>0.08</td>\n",
       "    </tr>\n",
       "    <tr>\n",
       "      <th>3</th>\n",
       "      <td>2021-11-12 18:18:21.052</td>\n",
       "      <td>SearchApp.exe</td>\n",
       "      <td>1.0</td>\n",
       "      <td>4</td>\n",
       "      <td>0.48</td>\n",
       "    </tr>\n",
       "    <tr>\n",
       "      <th>4</th>\n",
       "      <td>2021-11-12 18:18:50.083</td>\n",
       "      <td>notepad++.exe</td>\n",
       "      <td>0.0</td>\n",
       "      <td>4</td>\n",
       "      <td>0.02</td>\n",
       "    </tr>\n",
       "  </tbody>\n",
       "</table>\n",
       "</div>"
      ],
      "text/plain": [
       "                     time         window  is_immersive  WEEKDAY  MINS_SPENT\n",
       "0 2021-11-12 18:17:47.026        cmd.exe           0.0        4        0.12\n",
       "1 2021-11-12 18:17:54.031  SearchApp.exe           1.0        4        0.37\n",
       "2 2021-11-12 18:18:16.046        cmd.exe           0.0        4        0.08\n",
       "3 2021-11-12 18:18:21.052  SearchApp.exe           1.0        4        0.48\n",
       "4 2021-11-12 18:18:50.083  notepad++.exe           0.0        4        0.02"
      ]
     },
     "execution_count": 30,
     "metadata": {},
     "output_type": "execute_result"
    }
   ],
   "source": [
    "data.head()"
   ]
  }
 ],
 "metadata": {
  "kernelspec": {
   "display_name": "Python 3",
   "language": "python",
   "name": "python3"
  },
  "language_info": {
   "codemirror_mode": {
    "name": "ipython",
    "version": 3
   },
   "file_extension": ".py",
   "mimetype": "text/x-python",
   "name": "python",
   "nbconvert_exporter": "python",
   "pygments_lexer": "ipython3",
   "version": "3.7.3"
  }
 },
 "nbformat": 4,
 "nbformat_minor": 2
}

{
 "cells": [
  {
   "cell_type": "code",
   "execution_count": 2,
   "metadata": {},
   "outputs": [],
   "source": [
    "import pandas as pd\n",
    "import numpy as np\n",
    "import sqlite3"
   ]
  },
  {
   "cell_type": "code",
   "execution_count": 30,
   "metadata": {},
   "outputs": [
    {
     "name": "stdout",
     "output_type": "stream",
     "text": [
      "[('DB_META_DATA',), ('INPUT_LIBRARIES',), ('INPUTS',), ('COUNTERS_ULL_TIME_DATA',), ('COUNTERS_LL_TIME_DATA',), ('COUNTERS_DOUBLE_TIME_DATA',), ('COUNTERS_STRING_TIME_DATA',), ('COUNTERS_BLOB_TIME_DATA',), ('COUNTERS_UUID_TIME_DATA',)]\n"
     ]
    }
   ],
   "source": [
    "# read in db files and create dataframes\n",
    "table_1 = sqlite3.connect('/Users/srikarprayaga/Downloads/OneDrive_3_1-14-2022/output_data-1-arjun.db')\n",
    "table_2 = sqlite3.connect('/Users/srikarprayaga/Downloads/OneDrive_3_1-14-2022/output_data-2-arjun.db')\n",
    "\n",
    "print(table_1.execute(\"SELECT name FROM sqlite_master WHERE type='table';\").fetchall())"
   ]
  },
  {
   "cell_type": "code",
   "execution_count": 31,
   "metadata": {},
   "outputs": [
    {
     "name": "stdout",
     "output_type": "stream",
     "text": [
      "[('DB_META_DATA',), ('INPUT_LIBRARIES',), ('INPUTS',), ('COUNTERS_ULL_TIME_DATA',), ('COUNTERS_LL_TIME_DATA',), ('COUNTERS_DOUBLE_TIME_DATA',), ('COUNTERS_STRING_TIME_DATA',), ('COUNTERS_BLOB_TIME_DATA',), ('COUNTERS_UUID_TIME_DATA',)]\n"
     ]
    }
   ],
   "source": [
    "table_3 = sqlite3.connect('/Users/srikarprayaga/Downloads/OneDrive_3_1-14-2022/output_data-000022.db')\n",
    "table_4 = sqlite3.connect('/Users/srikarprayaga/Downloads/OneDrive_3_1-14-2022/output_data-000023.db')\n",
    "table_5= sqlite3.connect('/Users/srikarprayaga/Downloads/OneDrive_3_1-14-2022/output_data-000024.db')\n",
    "table_6 = sqlite3.connect('/Users/srikarprayaga/Downloads/OneDrive_3_1-14-2022/output_data-000025.db')\n",
    "table_7= sqlite3.connect('/Users/srikarprayaga/Downloads/OneDrive_3_1-14-2022/output_data-000026.db')\n",
    "table_8 = sqlite3.connect('/Users/srikarprayaga/Downloads/OneDrive_3_1-14-2022/output_data-000027.db')\n",
    "\n",
    "print(table_3.execute(\"SELECT name FROM sqlite_master WHERE type='table';\").fetchall())"
   ]
  },
  {
   "cell_type": "code",
   "execution_count": 46,
   "metadata": {},
   "outputs": [
    {
     "data": {
      "text/html": [
       "<div>\n",
       "<style scoped>\n",
       "    .dataframe tbody tr th:only-of-type {\n",
       "        vertical-align: middle;\n",
       "    }\n",
       "\n",
       "    .dataframe tbody tr th {\n",
       "        vertical-align: top;\n",
       "    }\n",
       "\n",
       "    .dataframe thead th {\n",
       "        text-align: right;\n",
       "    }\n",
       "</style>\n",
       "<table border=\"1\" class=\"dataframe\">\n",
       "  <thead>\n",
       "    <tr style=\"text-align: right;\">\n",
       "      <th></th>\n",
       "      <th>MEASUREMENT_TIME</th>\n",
       "      <th>ID_INPUT</th>\n",
       "      <th>VALUE</th>\n",
       "      <th>PRIVATE_DATA</th>\n",
       "    </tr>\n",
       "  </thead>\n",
       "  <tbody>\n",
       "    <tr>\n",
       "      <th>0</th>\n",
       "      <td>2021-12-28 00:41:50.084</td>\n",
       "      <td>7</td>\n",
       "      <td>cmd.exe</td>\n",
       "      <td>0</td>\n",
       "    </tr>\n",
       "    <tr>\n",
       "      <th>1</th>\n",
       "      <td>2021-12-28 00:42:02.192</td>\n",
       "      <td>7</td>\n",
       "      <td>chrome.exe</td>\n",
       "      <td>0</td>\n",
       "    </tr>\n",
       "    <tr>\n",
       "      <th>2</th>\n",
       "      <td>2021-12-28 00:42:04.214</td>\n",
       "      <td>7</td>\n",
       "      <td>devenv.exe</td>\n",
       "      <td>0</td>\n",
       "    </tr>\n",
       "    <tr>\n",
       "      <th>3</th>\n",
       "      <td>2021-12-28 00:42:06.226</td>\n",
       "      <td>7</td>\n",
       "      <td>explorer.exe</td>\n",
       "      <td>0</td>\n",
       "    </tr>\n",
       "    <tr>\n",
       "      <th>4</th>\n",
       "      <td>2021-12-28 00:42:07.228</td>\n",
       "      <td>7</td>\n",
       "      <td>devenv.exe</td>\n",
       "      <td>0</td>\n",
       "    </tr>\n",
       "    <tr>\n",
       "      <th>...</th>\n",
       "      <td>...</td>\n",
       "      <td>...</td>\n",
       "      <td>...</td>\n",
       "      <td>...</td>\n",
       "    </tr>\n",
       "    <tr>\n",
       "      <th>41</th>\n",
       "      <td>2022-01-06 03:25:11.999</td>\n",
       "      <td>7</td>\n",
       "      <td>explorer.exe</td>\n",
       "      <td>0</td>\n",
       "    </tr>\n",
       "    <tr>\n",
       "      <th>42</th>\n",
       "      <td>2022-01-06 03:25:15.028</td>\n",
       "      <td>7</td>\n",
       "      <td>SystemSettings.exe</td>\n",
       "      <td>0</td>\n",
       "    </tr>\n",
       "    <tr>\n",
       "      <th>43</th>\n",
       "      <td>2022-01-06 03:25:16.041</td>\n",
       "      <td>7</td>\n",
       "      <td>explorer.exe</td>\n",
       "      <td>0</td>\n",
       "    </tr>\n",
       "    <tr>\n",
       "      <th>44</th>\n",
       "      <td>2022-01-06 03:25:20.071</td>\n",
       "      <td>7</td>\n",
       "      <td>SearchApp.exe</td>\n",
       "      <td>0</td>\n",
       "    </tr>\n",
       "    <tr>\n",
       "      <th>45</th>\n",
       "      <td>2022-01-06 03:25:21.083</td>\n",
       "      <td>7</td>\n",
       "      <td>StartMenuExperienceHost.exe</td>\n",
       "      <td>0</td>\n",
       "    </tr>\n",
       "  </tbody>\n",
       "</table>\n",
       "<p>269 rows × 4 columns</p>\n",
       "</div>"
      ],
      "text/plain": [
       "           MEASUREMENT_TIME  ID_INPUT                        VALUE  \\\n",
       "0   2021-12-28 00:41:50.084         7                      cmd.exe   \n",
       "1   2021-12-28 00:42:02.192         7                   chrome.exe   \n",
       "2   2021-12-28 00:42:04.214         7                   devenv.exe   \n",
       "3   2021-12-28 00:42:06.226         7                 explorer.exe   \n",
       "4   2021-12-28 00:42:07.228         7                   devenv.exe   \n",
       "..                      ...       ...                          ...   \n",
       "41  2022-01-06 03:25:11.999         7                 explorer.exe   \n",
       "42  2022-01-06 03:25:15.028         7           SystemSettings.exe   \n",
       "43  2022-01-06 03:25:16.041         7                 explorer.exe   \n",
       "44  2022-01-06 03:25:20.071         7                SearchApp.exe   \n",
       "45  2022-01-06 03:25:21.083         7  StartMenuExperienceHost.exe   \n",
       "\n",
       "   PRIVATE_DATA  \n",
       "0             0  \n",
       "1             0  \n",
       "2             0  \n",
       "3             0  \n",
       "4             0  \n",
       "..          ...  \n",
       "41            0  \n",
       "42            0  \n",
       "43            0  \n",
       "44            0  \n",
       "45            0  \n",
       "\n",
       "[269 rows x 4 columns]"
      ]
     },
     "execution_count": 46,
     "metadata": {},
     "output_type": "execute_result"
    }
   ],
   "source": [
    "andrew_data_3 = pd.read_sql_query(\"SELECT * FROM 'COUNTERS_STRING_TIME_DATA'\", table_3)\n",
    "andrew_data_4 = pd.read_sql_query(\"SELECT * FROM 'COUNTERS_STRING_TIME_DATA'\", table_4)\n",
    "andrew_data_5 = pd.read_sql_query(\"SELECT * FROM 'COUNTERS_STRING_TIME_DATA'\", table_5)\n",
    "andrew_data_6 = pd.read_sql_query(\"SELECT * FROM 'COUNTERS_STRING_TIME_DATA'\", table_6)\n",
    "andrew_data_7 = pd.read_sql_query(\"SELECT * FROM 'COUNTERS_STRING_TIME_DATA'\", table_7)\n",
    "# combine all dataframes\n",
    "andrew_data = pd.concat([andrew_data_3, andrew_data_4, andrew_data_5, andrew_data_6, andrew_data_7])\n",
    "andrew_data\n",
    "\n"
   ]
  },
  {
   "cell_type": "code",
   "execution_count": 49,
   "metadata": {},
   "outputs": [
    {
     "data": {
      "text/html": [
       "<div>\n",
       "<style scoped>\n",
       "    .dataframe tbody tr th:only-of-type {\n",
       "        vertical-align: middle;\n",
       "    }\n",
       "\n",
       "    .dataframe tbody tr th {\n",
       "        vertical-align: top;\n",
       "    }\n",
       "\n",
       "    .dataframe thead th {\n",
       "        text-align: right;\n",
       "    }\n",
       "</style>\n",
       "<table border=\"1\" class=\"dataframe\">\n",
       "  <thead>\n",
       "    <tr style=\"text-align: right;\">\n",
       "      <th></th>\n",
       "      <th>MEASUREMENT_TIME</th>\n",
       "      <th>ID_INPUT</th>\n",
       "      <th>VALUE</th>\n",
       "      <th>PRIVATE_DATA</th>\n",
       "    </tr>\n",
       "  </thead>\n",
       "  <tbody>\n",
       "    <tr>\n",
       "      <th>0</th>\n",
       "      <td>2021-12-15 10:17:56.270</td>\n",
       "      <td>1</td>\n",
       "      <td>cmd.exe</td>\n",
       "      <td>0</td>\n",
       "    </tr>\n",
       "    <tr>\n",
       "      <th>1</th>\n",
       "      <td>2021-12-15 10:18:01.320</td>\n",
       "      <td>1</td>\n",
       "      <td>explorer.exe</td>\n",
       "      <td>0</td>\n",
       "    </tr>\n",
       "    <tr>\n",
       "      <th>2</th>\n",
       "      <td>2021-12-15 10:18:06.362</td>\n",
       "      <td>1</td>\n",
       "      <td>chrome.exe</td>\n",
       "      <td>0</td>\n",
       "    </tr>\n",
       "    <tr>\n",
       "      <th>3</th>\n",
       "      <td>2021-12-15 10:20:14.441</td>\n",
       "      <td>1</td>\n",
       "      <td>chrome.exe</td>\n",
       "      <td>0</td>\n",
       "    </tr>\n",
       "    <tr>\n",
       "      <th>4</th>\n",
       "      <td>2021-12-15 10:20:19.490</td>\n",
       "      <td>1</td>\n",
       "      <td>chrome.exe</td>\n",
       "      <td>0</td>\n",
       "    </tr>\n",
       "    <tr>\n",
       "      <th>...</th>\n",
       "      <td>...</td>\n",
       "      <td>...</td>\n",
       "      <td>...</td>\n",
       "      <td>...</td>\n",
       "    </tr>\n",
       "    <tr>\n",
       "      <th>1232</th>\n",
       "      <td>2022-01-11 16:08:24.140</td>\n",
       "      <td>1</td>\n",
       "      <td>Teams.exe</td>\n",
       "      <td>0</td>\n",
       "    </tr>\n",
       "    <tr>\n",
       "      <th>1233</th>\n",
       "      <td>2022-01-11 16:08:25.155</td>\n",
       "      <td>1</td>\n",
       "      <td>explorer.exe</td>\n",
       "      <td>0</td>\n",
       "    </tr>\n",
       "    <tr>\n",
       "      <th>1234</th>\n",
       "      <td>2022-01-11 16:08:27.176</td>\n",
       "      <td>1</td>\n",
       "      <td>Teams.exe</td>\n",
       "      <td>0</td>\n",
       "    </tr>\n",
       "    <tr>\n",
       "      <th>1235</th>\n",
       "      <td>2022-01-11 16:08:28.189</td>\n",
       "      <td>1</td>\n",
       "      <td>explorer.exe</td>\n",
       "      <td>0</td>\n",
       "    </tr>\n",
       "    <tr>\n",
       "      <th>1236</th>\n",
       "      <td>2022-01-11 16:08:29.198</td>\n",
       "      <td>1</td>\n",
       "      <td>cmd.exe</td>\n",
       "      <td>0</td>\n",
       "    </tr>\n",
       "  </tbody>\n",
       "</table>\n",
       "<p>1458 rows × 4 columns</p>\n",
       "</div>"
      ],
      "text/plain": [
       "             MEASUREMENT_TIME  ID_INPUT         VALUE PRIVATE_DATA\n",
       "0     2021-12-15 10:17:56.270         1       cmd.exe            0\n",
       "1     2021-12-15 10:18:01.320         1  explorer.exe            0\n",
       "2     2021-12-15 10:18:06.362         1    chrome.exe            0\n",
       "3     2021-12-15 10:20:14.441         1    chrome.exe            0\n",
       "4     2021-12-15 10:20:19.490         1    chrome.exe            0\n",
       "...                       ...       ...           ...          ...\n",
       "1232  2022-01-11 16:08:24.140         1     Teams.exe            0\n",
       "1233  2022-01-11 16:08:25.155         1  explorer.exe            0\n",
       "1234  2022-01-11 16:08:27.176         1     Teams.exe            0\n",
       "1235  2022-01-11 16:08:28.189         1  explorer.exe            0\n",
       "1236  2022-01-11 16:08:29.198         1       cmd.exe            0\n",
       "\n",
       "[1458 rows x 4 columns]"
      ]
     },
     "execution_count": 49,
     "metadata": {},
     "output_type": "execute_result"
    }
   ],
   "source": [
    "arjun_data_1= pd.read_sql_query(\"SELECT * FROM 'COUNTERS_STRING_TIME_DATA'\", table_1)\n",
    "arjun_data_2 = pd.read_sql_query(\"SELECT * FROM 'COUNTERS_STRING_TIME_DATA'\", table_2)\n",
    "arjun_data = pd.concat([arjun_data_1, arjun_data_2])\n",
    "arjun_data"
   ]
  },
  {
   "cell_type": "code",
   "execution_count": 50,
   "metadata": {},
   "outputs": [
    {
     "data": {
      "text/plain": [
       "<AxesSubplot:>"
      ]
     },
     "execution_count": 50,
     "metadata": {},
     "output_type": "execute_result"
    },
    {
     "data": {
      "image/png": "[encoded data removed]",
      "text/plain": [
       "<Figure size 432x288 with 1 Axes>"
      ]
     },
     "metadata": {
      "needs_background": "light"
     },
     "output_type": "display_data"
    }
   ],
   "source": [
    "# create a bar plot of the number of times each VALUE is used in arjun_data\n",
    "arjun_data['VALUE'].value_counts().plot(kind='bar')\n"
   ]
  },
  {
   "cell_type": "code",
   "execution_count": 51,
   "metadata": {},
   "outputs": [
    {
     "data": {
      "text/plain": [
       "<AxesSubplot:>"
      ]
     },
     "execution_count": 51,
     "metadata": {},
     "output_type": "execute_result"
    },
    {
     "data": {
      "image/png": "[encoded data removed]",
      "text/plain": [
       "<Figure size 432x288 with 1 Axes>"
      ]
     },
     "metadata": {
      "needs_background": "light"
     },
     "output_type": "display_data"
    }
   ],
   "source": [
    "andrew_data['VALUE'].value_counts().plot(kind='bar')"
   ]
  },
  {
   "cell_type": "code",
   "execution_count": 52,
   "metadata": {},
   "outputs": [
    {
     "data": {
      "text/plain": [
       "chrome.exe                        527\n",
       "explorer.exe                      318\n",
       "ShellExperienceHost.exe           182\n",
       "Zoom.exe                          147\n",
       "Slack.exe                          44\n",
       "cmd.exe                            40\n",
       "WINWORD.EXE                        36\n",
       "Teams.exe                          33\n",
       "WhatsApp.exe                       20\n",
       "Microsoft.AAD.BrokerPlugin.exe     20\n",
       "SystemSettings.exe                 13\n",
       "SearchApp.exe                      11\n",
       "hsscp.exe                          11\n",
       "ApplicationFrameHost.exe            9\n",
       "firefox.exe                         9\n",
       "Spotify.exe                         8\n",
       "vpnui.exe                           5\n",
       "msedgewebview2.exe                  4\n",
       "devenv.exe                          4\n",
       "Messenger.exe                       4\n",
       "HxOutlook.exe                       2\n",
       "WindowsCamera.exe                   2\n",
       "DB Browser for SQLite.exe           2\n",
       "Discord.exe                         2\n",
       "python.exe                          1\n",
       "acrotray.exe                        1\n",
       "vpndownloader.exe                   1\n",
       "Installer.exe                       1\n",
       "Messenger.134.0.0.11.118.exe        1\n",
       "Name: VALUE, dtype: int64"
      ]
     },
     "execution_count": 52,
     "metadata": {},
     "output_type": "execute_result"
    }
   ],
   "source": [
    "# value counts of VALUE in arjun_data\n",
    "arjun_data['VALUE'].value_counts()"
   ]
  },
  {
   "cell_type": "code",
   "execution_count": 53,
   "metadata": {},
   "outputs": [
    {
     "data": {
      "text/plain": [
       "chrome.exe                        95\n",
       "explorer.exe                      50\n",
       "HxOutlook.exe                     42\n",
       "LockApp.exe                       17\n",
       "Teams.exe                         11\n",
       "Discord.exe                       11\n",
       "cmd.exe                            7\n",
       "WINWORD.EXE                        6\n",
       "ApplicationFrameHost.exe           5\n",
       "SearchApp.exe                      5\n",
       "StartMenuExperienceHost.exe        5\n",
       "ShellExperienceHost.exe            5\n",
       "Zoom.exe                           4\n",
       "devenv.exe                         2\n",
       "Microsoft.AAD.BrokerPlugin.exe     2\n",
       "vpnui.exe                          1\n",
       "SystemSettings.exe                 1\n",
       "Name: VALUE, dtype: int64"
      ]
     },
     "execution_count": 53,
     "metadata": {},
     "output_type": "execute_result"
    }
   ],
   "source": [
    "# value counts of VALUE in andrew_data\n",
    "andrew_data['VALUE'].value_counts()"
   ]
  },
  {
   "cell_type": "code",
   "execution_count": 54,
   "metadata": {},
   "outputs": [
    {
     "data": {
      "text/plain": [
       "chrome.exe                        0.361454\n",
       "explorer.exe                      0.218107\n",
       "ShellExperienceHost.exe           0.124829\n",
       "Zoom.exe                          0.100823\n",
       "Slack.exe                         0.030178\n",
       "cmd.exe                           0.027435\n",
       "WINWORD.EXE                       0.024691\n",
       "Teams.exe                         0.022634\n",
       "WhatsApp.exe                      0.013717\n",
       "Microsoft.AAD.BrokerPlugin.exe    0.013717\n",
       "SystemSettings.exe                0.008916\n",
       "SearchApp.exe                     0.007545\n",
       "hsscp.exe                         0.007545\n",
       "ApplicationFrameHost.exe          0.006173\n",
       "firefox.exe                       0.006173\n",
       "Spotify.exe                       0.005487\n",
       "vpnui.exe                         0.003429\n",
       "msedgewebview2.exe                0.002743\n",
       "devenv.exe                        0.002743\n",
       "Messenger.exe                     0.002743\n",
       "HxOutlook.exe                     0.001372\n",
       "WindowsCamera.exe                 0.001372\n",
       "DB Browser for SQLite.exe         0.001372\n",
       "Discord.exe                       0.001372\n",
       "python.exe                        0.000686\n",
       "acrotray.exe                      0.000686\n",
       "vpndownloader.exe                 0.000686\n",
       "Installer.exe                     0.000686\n",
       "Messenger.134.0.0.11.118.exe      0.000686\n",
       "Name: VALUE, dtype: float64"
      ]
     },
     "execution_count": 54,
     "metadata": {},
     "output_type": "execute_result"
    }
   ],
   "source": [
    "# probability of VALUE in arjun_data\n",
    "arjun_data['VALUE'].value_counts()/arjun_data['VALUE'].value_counts().sum()\n"
   ]
  },
  {
   "cell_type": "code",
   "execution_count": 55,
   "metadata": {},
   "outputs": [
    {
     "data": {
      "text/plain": [
       "chrome.exe                        0.353160\n",
       "explorer.exe                      0.185874\n",
       "HxOutlook.exe                     0.156134\n",
       "LockApp.exe                       0.063197\n",
       "Teams.exe                         0.040892\n",
       "Discord.exe                       0.040892\n",
       "cmd.exe                           0.026022\n",
       "WINWORD.EXE                       0.022305\n",
       "ApplicationFrameHost.exe          0.018587\n",
       "SearchApp.exe                     0.018587\n",
       "StartMenuExperienceHost.exe       0.018587\n",
       "ShellExperienceHost.exe           0.018587\n",
       "Zoom.exe                          0.014870\n",
       "devenv.exe                        0.007435\n",
       "Microsoft.AAD.BrokerPlugin.exe    0.007435\n",
       "vpnui.exe                         0.003717\n",
       "SystemSettings.exe                0.003717\n",
       "Name: VALUE, dtype: float64"
      ]
     },
     "execution_count": 55,
     "metadata": {},
     "output_type": "execute_result"
    }
   ],
   "source": [
    "# probability of VALUE in andrew_data\n",
    "andrew_data['VALUE'].value_counts()/andrew_data['VALUE'].value_counts().sum()\n"
   ]
  },
  {
   "cell_type": "code",
   "execution_count": 88,
   "metadata": {},
   "outputs": [
    {
     "data": {
      "text/html": [
       "<div>\n",
       "<style scoped>\n",
       "    .dataframe tbody tr th:only-of-type {\n",
       "        vertical-align: middle;\n",
       "    }\n",
       "\n",
       "    .dataframe tbody tr th {\n",
       "        vertical-align: top;\n",
       "    }\n",
       "\n",
       "    .dataframe thead th {\n",
       "        text-align: right;\n",
       "    }\n",
       "</style>\n",
       "<table border=\"1\" class=\"dataframe\">\n",
       "  <thead>\n",
       "    <tr style=\"text-align: right;\">\n",
       "      <th></th>\n",
       "      <th>conditional_prob</th>\n",
       "    </tr>\n",
       "  </thead>\n",
       "  <tbody>\n",
       "    <tr>\n",
       "      <th>chrome.exe</th>\n",
       "      <td>0.566058</td>\n",
       "    </tr>\n",
       "    <tr>\n",
       "      <th>explorer.exe</th>\n",
       "      <td>0.278947</td>\n",
       "    </tr>\n",
       "    <tr>\n",
       "      <th>ShellExperienceHost.exe</th>\n",
       "      <td>0.142633</td>\n",
       "    </tr>\n",
       "    <tr>\n",
       "      <th>Zoom.exe</th>\n",
       "      <td>0.112128</td>\n",
       "    </tr>\n",
       "    <tr>\n",
       "      <th>Slack.exe</th>\n",
       "      <td>0.031117</td>\n",
       "    </tr>\n",
       "    <tr>\n",
       "      <th>cmd.exe</th>\n",
       "      <td>0.028209</td>\n",
       "    </tr>\n",
       "    <tr>\n",
       "      <th>WINWORD.EXE</th>\n",
       "      <td>0.025316</td>\n",
       "    </tr>\n",
       "    <tr>\n",
       "      <th>Teams.exe</th>\n",
       "      <td>0.023158</td>\n",
       "    </tr>\n",
       "    <tr>\n",
       "      <th>WhatsApp.exe</th>\n",
       "      <td>0.013908</td>\n",
       "    </tr>\n",
       "    <tr>\n",
       "      <th>Microsoft.AAD.BrokerPlugin.exe</th>\n",
       "      <td>0.013908</td>\n",
       "    </tr>\n",
       "    <tr>\n",
       "      <th>SystemSettings.exe</th>\n",
       "      <td>0.008997</td>\n",
       "    </tr>\n",
       "    <tr>\n",
       "      <th>SearchApp.exe</th>\n",
       "      <td>0.007602</td>\n",
       "    </tr>\n",
       "    <tr>\n",
       "      <th>hsscp.exe</th>\n",
       "      <td>0.007602</td>\n",
       "    </tr>\n",
       "    <tr>\n",
       "      <th>firefox.exe</th>\n",
       "      <td>0.006211</td>\n",
       "    </tr>\n",
       "    <tr>\n",
       "      <th>ApplicationFrameHost.exe</th>\n",
       "      <td>0.006211</td>\n",
       "    </tr>\n",
       "    <tr>\n",
       "      <th>Spotify.exe</th>\n",
       "      <td>0.005517</td>\n",
       "    </tr>\n",
       "    <tr>\n",
       "      <th>vpnui.exe</th>\n",
       "      <td>0.003441</td>\n",
       "    </tr>\n",
       "    <tr>\n",
       "      <th>msedgewebview2.exe</th>\n",
       "      <td>0.002751</td>\n",
       "    </tr>\n",
       "    <tr>\n",
       "      <th>devenv.exe</th>\n",
       "      <td>0.002751</td>\n",
       "    </tr>\n",
       "    <tr>\n",
       "      <th>Messenger.exe</th>\n",
       "      <td>0.002751</td>\n",
       "    </tr>\n",
       "    <tr>\n",
       "      <th>HxOutlook.exe</th>\n",
       "      <td>0.001374</td>\n",
       "    </tr>\n",
       "    <tr>\n",
       "      <th>WindowsCamera.exe</th>\n",
       "      <td>0.001374</td>\n",
       "    </tr>\n",
       "    <tr>\n",
       "      <th>DB Browser for SQLite.exe</th>\n",
       "      <td>0.001374</td>\n",
       "    </tr>\n",
       "    <tr>\n",
       "      <th>Discord.exe</th>\n",
       "      <td>0.001374</td>\n",
       "    </tr>\n",
       "    <tr>\n",
       "      <th>python.exe</th>\n",
       "      <td>0.000686</td>\n",
       "    </tr>\n",
       "    <tr>\n",
       "      <th>acrotray.exe</th>\n",
       "      <td>0.000686</td>\n",
       "    </tr>\n",
       "    <tr>\n",
       "      <th>vpndownloader.exe</th>\n",
       "      <td>0.000686</td>\n",
       "    </tr>\n",
       "    <tr>\n",
       "      <th>Installer.exe</th>\n",
       "      <td>0.000686</td>\n",
       "    </tr>\n",
       "    <tr>\n",
       "      <th>Messenger.134.0.0.11.118.exe</th>\n",
       "      <td>0.000686</td>\n",
       "    </tr>\n",
       "  </tbody>\n",
       "</table>\n",
       "</div>"
      ],
      "text/plain": [
       "                                conditional_prob\n",
       "chrome.exe                              0.566058\n",
       "explorer.exe                            0.278947\n",
       "ShellExperienceHost.exe                 0.142633\n",
       "Zoom.exe                                0.112128\n",
       "Slack.exe                               0.031117\n",
       "cmd.exe                                 0.028209\n",
       "WINWORD.EXE                             0.025316\n",
       "Teams.exe                               0.023158\n",
       "WhatsApp.exe                            0.013908\n",
       "Microsoft.AAD.BrokerPlugin.exe          0.013908\n",
       "SystemSettings.exe                      0.008997\n",
       "SearchApp.exe                           0.007602\n",
       "hsscp.exe                               0.007602\n",
       "firefox.exe                             0.006211\n",
       "ApplicationFrameHost.exe                0.006211\n",
       "Spotify.exe                             0.005517\n",
       "vpnui.exe                               0.003441\n",
       "msedgewebview2.exe                      0.002751\n",
       "devenv.exe                              0.002751\n",
       "Messenger.exe                           0.002751\n",
       "HxOutlook.exe                           0.001374\n",
       "WindowsCamera.exe                       0.001374\n",
       "DB Browser for SQLite.exe               0.001374\n",
       "Discord.exe                             0.001374\n",
       "python.exe                              0.000686\n",
       "acrotray.exe                            0.000686\n",
       "vpndownloader.exe                       0.000686\n",
       "Installer.exe                           0.000686\n",
       "Messenger.134.0.0.11.118.exe            0.000686"
      ]
     },
     "execution_count": 88,
     "metadata": {},
     "output_type": "execute_result"
    }
   ],
   "source": [
    "conditional_probs_dict = {}\n",
    "def conditional_probs(df, col_name, val_name):\n",
    "    val_count = df[col_name].value_counts()[val_name]\n",
    "    other_val_count = df[col_name].value_counts().sum() - val_count\n",
    "    return val_count / other_val_count\n",
    "for val in arjun_data['VALUE'].value_counts().index:\n",
    "    conditional_probs_dict[val] = conditional_probs(arjun_data, 'VALUE', val)\n",
    "conditional_probs_df = pd.DataFrame.from_dict(conditional_probs_dict, orient='index')\n",
    "conditional_probs_df.columns = ['conditional_prob']\n",
    "conditional_probs_df.sort_values('conditional_prob', ascending=False)\n",
    "\n",
    "    \n",
    "\n",
    "\n",
    "\n",
    "\n",
    "\n",
    "\n",
    "\n"
   ]
  },
  {
   "cell_type": "code",
   "execution_count": 89,
   "metadata": {},
   "outputs": [
    {
     "data": {
      "text/plain": [
       "<AxesSubplot:>"
      ]
     },
     "execution_count": 89,
     "metadata": {},
     "output_type": "execute_result"
    },
    {
     "data": {
      "image/png": "[encoded data removed]",
      "text/plain": [
       "<Figure size 432x288 with 1 Axes>"
      ]
     },
     "metadata": {
      "needs_background": "light"
     },
     "output_type": "display_data"
    }
   ],
   "source": [
    "conditional_probs_df.plot(kind='bar')"
   ]
  },
  {
   "cell_type": "code",
   "execution_count": 91,
   "metadata": {},
   "outputs": [
    {
     "data": {
      "text/plain": [
       "<matplotlib.collections.PathCollection at 0x7ff1c6a54220>"
      ]
     },
     "execution_count": 91,
     "metadata": {},
     "output_type": "execute_result"
    },
    {
     "data": {
      "image/png": "[encoded data removed]",
      "text/plain": [
       "<Figure size 432x288 with 1 Axes>"
      ]
     },
     "metadata": {},
     "output_type": "display_data"
    }
   ],
   "source": [
    "# grah of order of probability \n",
    "G = nx.DiGraph()\n",
    "G.add_nodes_from(conditional_probs_df.index)\n",
    "G.add_edges_from(zip(conditional_probs_df.index, conditional_probs_df.index))\n",
    "nx.draw(G, with_labels=True)\n",
    "nx.draw_networkx_nodes(G, pos=nx.spring_layout(G), nodelist=['chrome.exe'], node_color='r', node_size=500, alpha=0.8)\n",
    "\n",
    "\n"
   ]
  },
  {
   "cell_type": "code",
   "execution_count": null,
   "metadata": {},
   "outputs": [],
   "source": [
    "class HMM:\n",
    "    def __init__(self, states, observations):\n",
    "        # define states and observations\n",
    "        # states = ['A', 'B', 'C']\n",
    "        # observations = ['a', 'b', 'c']\n",
    "        self.states = states\n",
    "        self.observations = observations\n",
    "        self.transition_probs = self.create_transition_probs()\n",
    "        self.emission_probs = self.create_emission_probs()\n",
    "        self.initial_probs = self.create_initial_probs()\n",
    "    \n",
    "    def create_transition_probs(self):\n",
    "        transition_probs = {}\n",
    "        for state in self.states:\n",
    "            transition_probs[state] = {}\n",
    "            for next_state in self.states:\n",
    "                transition_probs[state][next_state] = 0\n",
    "        return transition_probs\n",
    "    \n",
    "    def create_emission_probs(self):\n",
    "        emission_probs = {}\n",
    "        for state in self.states:\n",
    "            emission_probs[state] = {}\n",
    "            for observation in self.observations:\n",
    "                emission_probs[state][observation] = 0\n",
    "        return emission_probs\n",
    "    \n",
    "    def create_initial_probs(self):\n",
    "        initial_probs = {}\n",
    "        for state in self.states:\n",
    "            initial_probs[state] = 0\n",
    "        return initial_probs\n",
    "    \n",
    "    def train(self, data):\n",
    "        for state in self.states:\n",
    "            self.initial_probs[state] = data[0].count(state) / len(data[0])\n",
    "        for i in range(len(data)):\n",
    "            for j in range(len(data[i]) - 1):\n",
    "                self.transition_probs[data[i][j]][data[i][j+1]] += 1\n",
    "            for observation in self.observations:\n",
    "                if observation in data[i]:\n",
    "                    self.emission_probs[data[i][-1]][observation] += 1\n",
    "        for state in self.states:\n",
    "            for observation in self.observations:\n",
    "                self.emission_probs[state][observation] /= self.emission_probs[state].values().sum()\n",
    "            self.transition_probs[state] = {\n",
    "                key: value / self.transition_probs[state].values().sum()\n",
    "                for key, value in self.transition_probs[state].items()\n",
    "            }\n"
   ]
  },
  {
   "cell_type": "code",
   "execution_count": null,
   "metadata": {},
   "outputs": [],
   "source": [
    "# create a class for preprocessing arjun_data and andrew_data on columns MEASUREMENT_TIME and VALUE\n",
    "class Preprocess:\n",
    "    def _init_(self, data):\n",
    "        self.data = data\n",
    "        self.data_processed = self.preprocess()\n",
    "    def preprocess(self):\n",
    "        data_processed = self.data.copy()\n",
    "        data_processed['MEASUREMENT_TIME'] = pd.to_datetime(data_processed['MEASUREMENT_TIME'])\n",
    "        data_processed['MEASUREMENT_TIME'] = data_processed['MEASUREMENT_TIME'].dt.strftime('%Y-%m-%d %H:%M:%S')\n",
    "        data_processed['MEASUREMENT_TIME'] = data_processed['MEASUREMENT_TIME'].str.replace('-', '')\n",
    "        data_processed['MEASUREMENT_TIME'] = data_processed['MEASUREMENT_TIME'].str.replace(' ', '')\n",
    "        data_processed['MEASUREMENT_TIME'] = data_processed['MEASUREMENT_TIME'].str.replace(':', '')\n",
    "        data_processed['MEASUREMENT_TIME'] = data_processed['MEASUREMENT_TIME'].astype(int)\n",
    "        data_processed['VALUE'] = data_processed['VALUE'].astype(int)\n",
    "        return data_processed\n",
    "    "
   ]
  },
  {
   "cell_type": "code",
   "execution_count": null,
   "metadata": {},
   "outputs": [],
   "source": [
    "# create functional class to create a HMM model and train it with hyperparameter tuning \n",
    "class Train:\n",
    "    def __init__(self, data, states, observations):\n",
    "        self.data = data\n",
    "        self.states = states\n",
    "        self.observations = observations\n",
    "        self.hmm = HMM(self.states, self.observations)\n",
    "        self.hmm_model = self.train_hmm()\n",
    "    def train_hmm(self):\n",
    "        hmm_model = {}\n",
    "        for state in self.states:\n",
    "            hmm_model[state] = {}\n",
    "            for observation in self.observations:\n",
    "                hmm_model[state][observation] = 0\n",
    "        for i in range(len(self.data)):\n",
    "            for j in range(len(self.data[i]) - 1):\n",
    "                hmm_model[self.data[i][j]][self.data[i][j+1]] += 1\n",
    "        for state in self.states:\n",
    "            for observation in self.observations:\n",
    "                hmm_model[state][observation] /= hmm_model[state].values().sum()\n",
    "        return hmm_model\n"
   ]
  }
 ],
 "metadata": {
  "interpreter": {
   "hash": "aee8b7b246df8f9039afb4144a1f6fd8d2ca17a180786b69acc140d282b71a49"
  },
  "kernelspec": {
   "display_name": "Python 3.9.2 64-bit",
   "name": "python3"
  },
  "language_info": {
   "codemirror_mode": {
    "name": "ipython",
    "version": 3
   },
   "file_extension": ".py",
   "mimetype": "text/x-python",
   "name": "python",
   "nbconvert_exporter": "python",
   "pygments_lexer": "ipython3",
   "version": "3.8.5"
  },
  "orig_nbformat": 4
 },
 "nbformat": 4,
 "nbformat_minor": 2
}

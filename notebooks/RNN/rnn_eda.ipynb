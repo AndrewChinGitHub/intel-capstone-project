{
 "cells": [
  {
   "cell_type": "code",
   "execution_count": 3,
   "metadata": {},
   "outputs": [],
   "source": [
    "import pandas as pd\n",
    "import numpy as np"
   ]
  },
  {
   "cell_type": "code",
   "execution_count": 4,
   "metadata": {},
   "outputs": [
    {
     "data": {
      "text/html": [
       "<div>\n",
       "<style scoped>\n",
       "    .dataframe tbody tr th:only-of-type {\n",
       "        vertical-align: middle;\n",
       "    }\n",
       "\n",
       "    .dataframe tbody tr th {\n",
       "        vertical-align: top;\n",
       "    }\n",
       "\n",
       "    .dataframe thead th {\n",
       "        text-align: right;\n",
       "    }\n",
       "</style>\n",
       "<table border=\"1\" class=\"dataframe\">\n",
       "  <thead>\n",
       "    <tr style=\"text-align: right;\">\n",
       "      <th></th>\n",
       "      <th>MEASUREMENT_TIME</th>\n",
       "      <th>ID_INPUT</th>\n",
       "      <th>VALUE</th>\n",
       "      <th>PRIVATE_DATA</th>\n",
       "    </tr>\n",
       "  </thead>\n",
       "  <tbody>\n",
       "    <tr>\n",
       "      <th>0</th>\n",
       "      <td>2022-01-03 17:59:23.547</td>\n",
       "      <td>7</td>\n",
       "      <td>cmd.exe</td>\n",
       "      <td>0</td>\n",
       "    </tr>\n",
       "    <tr>\n",
       "      <th>1</th>\n",
       "      <td>2022-01-03 17:59:28.589</td>\n",
       "      <td>7</td>\n",
       "      <td>explorer.exe</td>\n",
       "      <td>0</td>\n",
       "    </tr>\n",
       "    <tr>\n",
       "      <th>2</th>\n",
       "      <td>2022-01-03 17:59:59.817</td>\n",
       "      <td>7</td>\n",
       "      <td>ApplicationFrameHost.exe</td>\n",
       "      <td>0</td>\n",
       "    </tr>\n",
       "    <tr>\n",
       "      <th>3</th>\n",
       "      <td>2022-01-03 18:00:00.818</td>\n",
       "      <td>7</td>\n",
       "      <td>explorer.exe</td>\n",
       "      <td>0</td>\n",
       "    </tr>\n",
       "    <tr>\n",
       "      <th>4</th>\n",
       "      <td>2022-01-03 18:00:15.934</td>\n",
       "      <td>7</td>\n",
       "      <td>chrome.exe</td>\n",
       "      <td>0</td>\n",
       "    </tr>\n",
       "  </tbody>\n",
       "</table>\n",
       "</div>"
      ],
      "text/plain": [
       "          MEASUREMENT_TIME  ID_INPUT                     VALUE  PRIVATE_DATA\n",
       "0  2022-01-03 17:59:23.547         7                   cmd.exe             0\n",
       "1  2022-01-03 17:59:28.589         7              explorer.exe             0\n",
       "2  2022-01-03 17:59:59.817         7  ApplicationFrameHost.exe             0\n",
       "3  2022-01-03 18:00:00.818         7              explorer.exe             0\n",
       "4  2022-01-03 18:00:15.934         7                chrome.exe             0"
      ]
     },
     "execution_count": 4,
     "metadata": {},
     "output_type": "execute_result"
    }
   ],
   "source": [
    "data = pd.read_csv('data/twowk_school_window_data.csv')\n",
    "immersive_data = pd.read_csv('data/twowk_school_immersive_data.csv')\n",
    "data.head()"
   ]
  },
  {
   "cell_type": "code",
   "execution_count": 5,
   "metadata": {},
   "outputs": [
    {
     "data": {
      "text/plain": [
       "'cmd.exe'"
      ]
     },
     "execution_count": 5,
     "metadata": {},
     "output_type": "execute_result"
    }
   ],
   "source": [
    "data.iloc[0].VALUE"
   ]
  },
  {
   "cell_type": "code",
   "execution_count": 6,
   "metadata": {},
   "outputs": [],
   "source": [
    "def drop_dups(df):\n",
    "    bool_indexer = [True] * len(df)\n",
    "    for i in range(len(df) - 1): #-1 to avoid IndexOutOfBoundsError\n",
    "        curr_win = df.iloc[i].window\n",
    "        next_win = df.iloc[i+1].window\n",
    "        #if the next window is the same then add index to indeces to drop list\n",
    "        if curr_win == next_win:\n",
    "            bool_indexer[i+1] = False\n",
    "    return df[bool_indexer]"
   ]
  },
  {
   "cell_type": "code",
   "execution_count": 7,
   "metadata": {},
   "outputs": [],
   "source": [
    "def clean_data(path):\n",
    "    df = pd.read_csv(path)\n",
    "    #if path refers to a window csv\n",
    "    if df.VALUE.dtype == 'object':\n",
    "        #drop unecessary cols and rename the remaining cols\n",
    "        df = df.drop(['ID_INPUT','PRIVATE_DATA'], axis = 1)\n",
    "        df.columns = ['time','window']\n",
    "\n",
    "        #change time col to datetime object\n",
    "        df['time'] = pd.to_datetime(df['time'])\n",
    "\n",
    "        #handle back-to-back same windows\n",
    "        clean_df = drop_dups(df)\n",
    "    return clean_df\n",
    "    "
   ]
  },
  {
   "cell_type": "code",
   "execution_count": 8,
   "metadata": {},
   "outputs": [],
   "source": [
    "#convert days spent on window to minutes spent on window\n",
    "def convert_time(time):\n",
    "    return round(float((time.total_seconds()/60)), 2)"
   ]
  },
  {
   "cell_type": "code",
   "execution_count": 9,
   "metadata": {},
   "outputs": [],
   "source": [
    "df = clean_data('data/twowk_school_window_data.csv')"
   ]
  },
  {
   "cell_type": "code",
   "execution_count": 32,
   "metadata": {},
   "outputs": [],
   "source": [
    "#Extract time(in min) spent within each app\n",
    "#returns pd.Series with time spent on window \n",
    "#last window will have 0 time spent\n",
    "def calc_time(data):\n",
    "    \n",
    "    data['tvalue'] = data.time\n",
    "    data['delta'] = (data['tvalue'] - data['tvalue'].shift()).fillna(pd.Timedelta(seconds=0))\n",
    "\n",
    "    time_col = list(data['delta'][1:]) + [pd.Timedelta(seconds=0)]\n",
    "    time_spent = pd.Series(time_col)\n",
    "    time_spent.index = data.window\n",
    "    \n",
    "    return time_spent\n"
   ]
  },
  {
   "cell_type": "code",
   "execution_count": 38,
   "metadata": {},
   "outputs": [],
   "source": [
    "time_spent_col = calc_time(clean_data('data/twowk_school_window_data.csv'))"
   ]
  },
  {
   "cell_type": "code",
   "execution_count": 41,
   "metadata": {},
   "outputs": [
    {
     "data": {
      "text/html": [
       "<div>\n",
       "<style scoped>\n",
       "    .dataframe tbody tr th:only-of-type {\n",
       "        vertical-align: middle;\n",
       "    }\n",
       "\n",
       "    .dataframe tbody tr th {\n",
       "        vertical-align: top;\n",
       "    }\n",
       "\n",
       "    .dataframe thead th {\n",
       "        text-align: right;\n",
       "    }\n",
       "</style>\n",
       "<table border=\"1\" class=\"dataframe\">\n",
       "  <thead>\n",
       "    <tr style=\"text-align: right;\">\n",
       "      <th></th>\n",
       "      <th>time</th>\n",
       "      <th>window</th>\n",
       "      <th>time_spent</th>\n",
       "    </tr>\n",
       "  </thead>\n",
       "  <tbody>\n",
       "    <tr>\n",
       "      <th>0</th>\n",
       "      <td>2022-01-03 17:59:23.547</td>\n",
       "      <td>cmd.exe</td>\n",
       "      <td>00:00:05.042000</td>\n",
       "    </tr>\n",
       "    <tr>\n",
       "      <th>1</th>\n",
       "      <td>2022-01-03 17:59:28.589</td>\n",
       "      <td>explorer.exe</td>\n",
       "      <td>00:00:31.228000</td>\n",
       "    </tr>\n",
       "    <tr>\n",
       "      <th>2</th>\n",
       "      <td>2022-01-03 17:59:59.817</td>\n",
       "      <td>ApplicationFrameHost.exe</td>\n",
       "      <td>00:00:01.001000</td>\n",
       "    </tr>\n",
       "    <tr>\n",
       "      <th>3</th>\n",
       "      <td>2022-01-03 18:00:00.818</td>\n",
       "      <td>explorer.exe</td>\n",
       "      <td>00:00:15.116000</td>\n",
       "    </tr>\n",
       "    <tr>\n",
       "      <th>4</th>\n",
       "      <td>2022-01-03 18:00:15.934</td>\n",
       "      <td>chrome.exe</td>\n",
       "      <td>00:29:52.895000</td>\n",
       "    </tr>\n",
       "    <tr>\n",
       "      <th>...</th>\n",
       "      <td>...</td>\n",
       "      <td>...</td>\n",
       "      <td>...</td>\n",
       "    </tr>\n",
       "    <tr>\n",
       "      <th>1491</th>\n",
       "      <td>2022-01-18 17:28:23.985</td>\n",
       "      <td>Discord.exe</td>\n",
       "      <td>00:00:03.034000</td>\n",
       "    </tr>\n",
       "    <tr>\n",
       "      <th>1492</th>\n",
       "      <td>2022-01-18 17:28:27.019</td>\n",
       "      <td>python.exe</td>\n",
       "      <td>00:00:03.022000</td>\n",
       "    </tr>\n",
       "    <tr>\n",
       "      <th>1493</th>\n",
       "      <td>2022-01-18 17:28:30.041</td>\n",
       "      <td>explorer.exe</td>\n",
       "      <td>00:00:01.008000</td>\n",
       "    </tr>\n",
       "    <tr>\n",
       "      <th>1494</th>\n",
       "      <td>2022-01-18 17:28:31.049</td>\n",
       "      <td>SearchApp.exe</td>\n",
       "      <td>00:00:01.010000</td>\n",
       "    </tr>\n",
       "    <tr>\n",
       "      <th>1495</th>\n",
       "      <td>2022-01-18 17:28:32.059</td>\n",
       "      <td>StartMenuExperienceHost.exe</td>\n",
       "      <td>00:00:00</td>\n",
       "    </tr>\n",
       "  </tbody>\n",
       "</table>\n",
       "<p>1445 rows × 3 columns</p>\n",
       "</div>"
      ],
      "text/plain": [
       "                        time                       window      time_spent\n",
       "0    2022-01-03 17:59:23.547                      cmd.exe 00:00:05.042000\n",
       "1    2022-01-03 17:59:28.589                 explorer.exe 00:00:31.228000\n",
       "2    2022-01-03 17:59:59.817     ApplicationFrameHost.exe 00:00:01.001000\n",
       "3    2022-01-03 18:00:00.818                 explorer.exe 00:00:15.116000\n",
       "4    2022-01-03 18:00:15.934                   chrome.exe 00:29:52.895000\n",
       "...                      ...                          ...             ...\n",
       "1491 2022-01-18 17:28:23.985                  Discord.exe 00:00:03.034000\n",
       "1492 2022-01-18 17:28:27.019                   python.exe 00:00:03.022000\n",
       "1493 2022-01-18 17:28:30.041                 explorer.exe 00:00:01.008000\n",
       "1494 2022-01-18 17:28:31.049                SearchApp.exe 00:00:01.010000\n",
       "1495 2022-01-18 17:28:32.059  StartMenuExperienceHost.exe        00:00:00\n",
       "\n",
       "[1445 rows x 3 columns]"
      ]
     },
     "execution_count": 41,
     "metadata": {},
     "output_type": "execute_result"
    }
   ],
   "source": [
    "df['time_spent'] = time_spent_col.values\n",
    "df"
   ]
  },
  {
   "cell_type": "code",
   "execution_count": null,
   "metadata": {},
   "outputs": [],
   "source": []
  }
 ],
 "metadata": {
  "interpreter": {
   "hash": "20b6573caf0f396fb73445f322ae43fede248084dab7906f26a02ceb003527f1"
  },
  "kernelspec": {
   "display_name": "Python 3.7.4 64-bit",
   "language": "python",
   "name": "python3"
  },
  "language_info": {
   "codemirror_mode": {
    "name": "ipython",
    "version": 3
   },
   "file_extension": ".py",
   "mimetype": "text/x-python",
   "name": "python",
   "nbconvert_exporter": "python",
   "pygments_lexer": "ipython3",
   "version": "3.7.4"
  },
  "orig_nbformat": 4
 },
 "nbformat": 4,
 "nbformat_minor": 2
}

{
 "cells": [
  {
   "cell_type": "code",
   "execution_count": 1,
   "metadata": {},
   "outputs": [],
   "source": [
    "import pandas as pd\n",
    "from HMM_test import HMM\n",
    "\n",
    "xda = HMM()\n",
    "\n",
    "data = xda.clean_data('/Users/srikarprayaga/Desktop/intel-capstone-project/data/user1_window_data.csv',\n",
    "                         \"/Users/srikarprayaga/Desktop/intel-capstone-project/data/user1_immersive_data.csv\")\n",
    "train_data,test_data = xda.train_test_split(data)"
   ]
  },
  {
   "cell_type": "markdown",
   "metadata": {},
   "source": [
    "### Testing accuracy for predictor1 (Traditional Approach, threshold = 6)"
   ]
  },
  {
   "cell_type": "code",
   "execution_count": 2,
   "metadata": {},
   "outputs": [
    {
     "data": {
      "text/plain": [
       "0.6521739130434783"
      ]
     },
     "execution_count": 2,
     "metadata": {},
     "output_type": "execute_result"
    }
   ],
   "source": [
    "xda.predictor1(train_data, test_data)"
   ]
  },
  {
   "cell_type": "markdown",
   "metadata": {},
   "source": [
    "### Testing accuracy for predictor2 (Sequence predictor)"
   ]
  },
  {
   "cell_type": "code",
   "execution_count": 3,
   "metadata": {},
   "outputs": [
    {
     "data": {
      "text/plain": [
       "0.16666666666666666"
      ]
     },
     "execution_count": 3,
     "metadata": {},
     "output_type": "execute_result"
    }
   ],
   "source": [
    "predicted_window_sequence = xda.predictor2(train_data, test_data)\n",
    "\n",
    "num_correct = 0\n",
    "for i in range(len(test_data.window) - 1):\n",
    "    if test_data.window.iloc[i] == predicted_window_sequence[i]:\n",
    "        num_correct += 1\n",
    "num_correct / len(test_data)"
   ]
  },
  {
   "cell_type": "markdown",
   "metadata": {},
   "source": [
    "### Testing accuracy for predictor3 (Includes emission matrix)"
   ]
  },
  {
   "cell_type": "code",
   "execution_count": 4,
   "metadata": {},
   "outputs": [
    {
     "data": {
      "text/plain": [
       "0.17391304347826086"
      ]
     },
     "execution_count": 4,
     "metadata": {},
     "output_type": "execute_result"
    }
   ],
   "source": [
    "xda.predictor3(train_data, test_data)"
   ]
  },
  {
   "cell_type": "code",
   "execution_count": 6,
   "metadata": {},
   "outputs": [],
   "source": [
    "def hmm_predict(train_data, test_data):\n",
    "    num_correct = 0\n",
    "    tp_1=xda.predictor1(train_data, test_data)\n",
    "    predicted_window_sequence = xda.predictor2(train_data, test_data)\n",
    "    for i in range(len(test_data.window) - 1):\n",
    "        if test_data.window.iloc[i] == predicted_window_sequence[i]:\n",
    "            num_correct += 1\n",
    "    tp_2=num_correct / len(test_data)\n",
    "    tp_3=xda.predictor3(train_data, test_data)\n",
    "    return [tp_1,tp_2,tp_3]\n",
    "user='user1'\n",
    "data_us1 = xda.clean_data('/Users/srikarprayaga/Desktop/intel-capstone-project/data/{}_window_data.csv'.format(user),\n",
    "                         \"/Users/srikarprayaga/Desktop/intel-capstone-project/data/{}_immersive_data.csv\".format(user))\n",
    "user='user2'\n",
    "data_us2 = xda.clean_data('/Users/srikarprayaga/Desktop/intel-capstone-project/data/{}_window_data.csv'.format(user),\n",
    "                            \"/Users/srikarprayaga/Desktop/intel-capstone-project/data/{}_immersive_data.csv\".format(user))\n",
    "train_data_1,test_data_1 = xda.train_test_split(data_us1)\n",
    "train_data_2,test_data_2 = xda.train_test_split(data_us2)\n",
    "accuracy=[hmm_predict(train_data_1,test_data_1)[0],hmm_predict(train_data_2,test_data_2)[0],hmm_predict(train_data_1,test_data_1)[1],hmm_predict(train_data_2,test_data_2)[1],hmm_predict(train_data_1,test_data_1)[2],hmm_predict(train_data_2,test_data_2)[2]]\n",
    "\n",
    "\n",
    "    #dict={'Predictors':['Pred1','Pred1','Pred2','Pred2','Pred3','Pred3'],'Accuracy':accuracy,'User':[user,user,user]}\n",
    "dict={'Prediction':['Pred1','Pred1','Pred2','Pred2','Pred3','Pred3'],\n",
    "                   'Accuracy':accuracy,\n",
    "                   'User':['User1','User2','User1','User2','User1','User2']}"
   ]
  },
  {
   "cell_type": "code",
   "execution_count": 8,
   "metadata": {},
   "outputs": [
    {
     "data": {
      "text/html": [
       "<div>\n",
       "<style scoped>\n",
       "    .dataframe tbody tr th:only-of-type {\n",
       "        vertical-align: middle;\n",
       "    }\n",
       "\n",
       "    .dataframe tbody tr th {\n",
       "        vertical-align: top;\n",
       "    }\n",
       "\n",
       "    .dataframe thead th {\n",
       "        text-align: right;\n",
       "    }\n",
       "</style>\n",
       "<table border=\"1\" class=\"dataframe\">\n",
       "  <thead>\n",
       "    <tr style=\"text-align: right;\">\n",
       "      <th></th>\n",
       "      <th>Prediction</th>\n",
       "      <th>Accuracy</th>\n",
       "      <th>User</th>\n",
       "    </tr>\n",
       "  </thead>\n",
       "  <tbody>\n",
       "    <tr>\n",
       "      <th>0</th>\n",
       "      <td>Pred1</td>\n",
       "      <td>0.652174</td>\n",
       "      <td>User1</td>\n",
       "    </tr>\n",
       "    <tr>\n",
       "      <th>1</th>\n",
       "      <td>Pred1</td>\n",
       "      <td>0.862500</td>\n",
       "      <td>User2</td>\n",
       "    </tr>\n",
       "    <tr>\n",
       "      <th>2</th>\n",
       "      <td>Pred2</td>\n",
       "      <td>0.166667</td>\n",
       "      <td>User1</td>\n",
       "    </tr>\n",
       "    <tr>\n",
       "      <th>3</th>\n",
       "      <td>Pred2</td>\n",
       "      <td>0.555556</td>\n",
       "      <td>User2</td>\n",
       "    </tr>\n",
       "    <tr>\n",
       "      <th>4</th>\n",
       "      <td>Pred3</td>\n",
       "      <td>0.173913</td>\n",
       "      <td>User1</td>\n",
       "    </tr>\n",
       "    <tr>\n",
       "      <th>5</th>\n",
       "      <td>Pred3</td>\n",
       "      <td>0.250000</td>\n",
       "      <td>User2</td>\n",
       "    </tr>\n",
       "  </tbody>\n",
       "</table>\n",
       "</div>"
      ],
      "text/plain": [
       "  Prediction  Accuracy   User\n",
       "0      Pred1  0.652174  User1\n",
       "1      Pred1  0.862500  User2\n",
       "2      Pred2  0.166667  User1\n",
       "3      Pred2  0.555556  User2\n",
       "4      Pred3  0.173913  User1\n",
       "5      Pred3  0.250000  User2"
      ]
     },
     "execution_count": 8,
     "metadata": {},
     "output_type": "execute_result"
    }
   ],
   "source": [
    "results = pd.DataFrame(dict)\n",
    "results"
   ]
  },
  {
   "cell_type": "code",
   "execution_count": 12,
   "metadata": {},
   "outputs": [
    {
     "data": {
      "text/html": [
       "<div>\n",
       "<style scoped>\n",
       "    .dataframe tbody tr th:only-of-type {\n",
       "        vertical-align: middle;\n",
       "    }\n",
       "\n",
       "    .dataframe tbody tr th {\n",
       "        vertical-align: top;\n",
       "    }\n",
       "\n",
       "    .dataframe thead th {\n",
       "        text-align: right;\n",
       "    }\n",
       "</style>\n",
       "<table border=\"1\" class=\"dataframe\">\n",
       "  <thead>\n",
       "    <tr style=\"text-align: right;\">\n",
       "      <th></th>\n",
       "      <th>Prediction</th>\n",
       "      <th>Accuracy</th>\n",
       "      <th>User</th>\n",
       "    </tr>\n",
       "  </thead>\n",
       "  <tbody>\n",
       "    <tr>\n",
       "      <th>0</th>\n",
       "      <td>Pred1</td>\n",
       "      <td>0.652174</td>\n",
       "      <td>User1</td>\n",
       "    </tr>\n",
       "    <tr>\n",
       "      <th>1</th>\n",
       "      <td>Pred1</td>\n",
       "      <td>0.862500</td>\n",
       "      <td>User2</td>\n",
       "    </tr>\n",
       "    <tr>\n",
       "      <th>2</th>\n",
       "      <td>Pred2</td>\n",
       "      <td>0.166667</td>\n",
       "      <td>User1</td>\n",
       "    </tr>\n",
       "    <tr>\n",
       "      <th>3</th>\n",
       "      <td>Pred2</td>\n",
       "      <td>0.555556</td>\n",
       "      <td>User2</td>\n",
       "    </tr>\n",
       "    <tr>\n",
       "      <th>4</th>\n",
       "      <td>Pred3</td>\n",
       "      <td>0.173913</td>\n",
       "      <td>User1</td>\n",
       "    </tr>\n",
       "    <tr>\n",
       "      <th>5</th>\n",
       "      <td>Pred3</td>\n",
       "      <td>0.250000</td>\n",
       "      <td>User2</td>\n",
       "    </tr>\n",
       "  </tbody>\n",
       "</table>\n",
       "</div>"
      ],
      "text/plain": [
       "  Prediction  Accuracy   User\n",
       "0      Pred1  0.652174  User1\n",
       "1      Pred1  0.862500  User2\n",
       "2      Pred2  0.166667  User1\n",
       "3      Pred2  0.555556  User2\n",
       "4      Pred3  0.173913  User1\n",
       "5      Pred3  0.250000  User2"
      ]
     },
     "execution_count": 12,
     "metadata": {},
     "output_type": "execute_result"
    }
   ],
   "source": [
    "import numpy as np\n",
    "import matplotlib.pyplot as plt\n",
    "acc_df=results\n",
    "acc_df"
   ]
  },
  {
   "cell_type": "code",
   "execution_count": 20,
   "metadata": {},
   "outputs": [
    {
     "data": {
      "image/png": "[encoded data removed]",
      "text/plain": [
       "<Figure size 720x360 with 1 Axes>"
      ]
     },
     "metadata": {
      "needs_background": "light"
     },
     "output_type": "display_data"
    }
   ],
   "source": [
    "user_1=acc_df[acc_df['User']=='User1']\n",
    "user_2=acc_df[acc_df['User']=='User2']\n",
    "# plot user_1 accuracy per predictor as barplot \n",
    "plt.figure(figsize=(10,5))\n",
    "plt.bar(user_1['Prediction'],user_1['Accuracy'],color='blue')\n",
    "plt.title('User1 Accuracy per Predictors')\n",
    "plt.xlabel('Predictors')\n",
    "plt.ylabel('Accuracy')\n",
    "plt.show()\n",
    "\n",
    "\n",
    "\n"
   ]
  },
  {
   "cell_type": "code",
   "execution_count": 22,
   "metadata": {},
   "outputs": [
    {
     "data": {
      "image/png": "[encoded data removed]",
      "text/plain": [
       "<Figure size 720x360 with 1 Axes>"
      ]
     },
     "metadata": {
      "needs_background": "light"
     },
     "output_type": "display_data"
    }
   ],
   "source": [
    "plt.figure(figsize=(10,5))\n",
    "plt.bar(user_2['Prediction'],user_2['Accuracy'],color='blue')\n",
    "plt.title('User2 Accuracy per Predictors')\n",
    "plt.xlabel('Predictors')\n",
    "plt.ylabel('Accuracy')\n",
    "plt.show()\n",
    "# save png to file\n",
    "plt.savefig('/Users/srikarprayaga/Desktop/user2_accuracy.png')"
   ]
  },
  {
   "cell_type": "code",
   "execution_count": null,
   "metadata": {},
   "outputs": [],
   "source": []
  }
 ],
 "metadata": {
  "interpreter": {
   "hash": "20b6573caf0f396fb73445f322ae43fede248084dab7906f26a02ceb003527f1"
  },
  "kernelspec": {
   "display_name": "Python 3",
   "language": "python",
   "name": "python3"
  },
  "language_info": {
   "codemirror_mode": {
    "name": "ipython",
    "version": 3
   },
   "file_extension": ".py",
   "mimetype": "text/x-python",
   "name": "python",
   "nbconvert_exporter": "python",
   "pygments_lexer": "ipython3",
   "version": "3.8.5"
  }
 },
 "nbformat": 4,
 "nbformat_minor": 2
}
